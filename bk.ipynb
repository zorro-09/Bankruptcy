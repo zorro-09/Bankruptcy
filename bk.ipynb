{
 "cells": [
  {
   "cell_type": "markdown",
   "id": "da693145-b961-4b55-9b5b-86cc1ce716a8",
   "metadata": {},
   "source": [
    "## Bankruptcy Prediction"
   ]
  },
  {
   "cell_type": "markdown",
   "id": "66731e8f-aad8-4646-a067-255a0493f72d",
   "metadata": {},
   "source": [
    "### 1. EDA Task\n",
    "\n",
    "\r\n",
    "Importing necessary packages"
   ]
  },
  {
   "cell_type": "code",
   "execution_count": 66,
   "id": "54a987e6-c877-4a56-972a-ae5c8635c22e",
   "metadata": {},
   "outputs": [],
   "source": [
    "import pandas as pd\n",
    "import numpy as np\n",
    "import matplotlib.pyplot as plt\n",
    "import seaborn as sns\n",
    "from sklearn.linear_model import LogisticRegression\n",
    "from sklearn.tree import DecisionTreeClassifier\n",
    "from sklearn.ensemble import RandomForestClassifier, GradientBoostingClassifier\n",
    "from sklearn.svm import SVC  # Corrected from SVM to SVC\n",
    "from sklearn.metrics import confusion_matrix, classification_report, roc_curve, auc\n",
    "from sklearn.model_selection import train_test_split\n",
    "from sklearn.preprocessing import RobustScaler"
   ]
  },
  {
   "cell_type": "markdown",
   "id": "f5d12782-9673-4395-a656-c76cbe7a3c35",
   "metadata": {},
   "source": [
    "#### 1.1 Load the dataset"
   ]
  },
  {
   "cell_type": "code",
   "execution_count": 67,
   "id": "fd03521a-090e-465f-8fd3-2bf868846bcf",
   "metadata": {},
   "outputs": [],
   "source": [
    "dfBk = pd.read_excel('Bankruptcy_data.xlsx')"
   ]
  },
  {
   "cell_type": "code",
   "execution_count": 68,
   "id": "50543e2f-9573-4aff-9e9e-1a8986e6f1de",
   "metadata": {},
   "outputs": [
    {
     "data": {
      "text/plain": [
       "(92872, 13)"
      ]
     },
     "execution_count": 68,
     "metadata": {},
     "output_type": "execute_result"
    }
   ],
   "source": [
    "dfBk.shape"
   ]
  },
  {
   "cell_type": "code",
   "execution_count": 69,
   "id": "56248b50-53e3-4dcc-900c-9fb2e9fcdbce",
   "metadata": {},
   "outputs": [
    {
     "data": {
      "text/html": [
       "<div>\n",
       "<style scoped>\n",
       "    .dataframe tbody tr th:only-of-type {\n",
       "        vertical-align: middle;\n",
       "    }\n",
       "\n",
       "    .dataframe tbody tr th {\n",
       "        vertical-align: top;\n",
       "    }\n",
       "\n",
       "    .dataframe thead th {\n",
       "        text-align: right;\n",
       "    }\n",
       "</style>\n",
       "<table border=\"1\" class=\"dataframe\">\n",
       "  <thead>\n",
       "    <tr style=\"text-align: right;\">\n",
       "      <th></th>\n",
       "      <th>EPS</th>\n",
       "      <th>Liquidity</th>\n",
       "      <th>Profitability</th>\n",
       "      <th>Productivity</th>\n",
       "      <th>Leverage Ratio</th>\n",
       "      <th>Asset Turnover</th>\n",
       "      <th>Operational Margin</th>\n",
       "      <th>Return on Equity</th>\n",
       "      <th>Market Book Ratio</th>\n",
       "      <th>Assets Growth</th>\n",
       "      <th>Sales Growth</th>\n",
       "      <th>Employee Growth</th>\n",
       "      <th>BK</th>\n",
       "    </tr>\n",
       "  </thead>\n",
       "  <tbody>\n",
       "    <tr>\n",
       "      <th>0</th>\n",
       "      <td>1.58</td>\n",
       "      <td>0.36</td>\n",
       "      <td>0.18</td>\n",
       "      <td>0.13</td>\n",
       "      <td>1.33</td>\n",
       "      <td>1.77</td>\n",
       "      <td>0.07</td>\n",
       "      <td>0.15</td>\n",
       "      <td>2.22</td>\n",
       "      <td>NaN</td>\n",
       "      <td>NaN</td>\n",
       "      <td>NaN</td>\n",
       "      <td>0</td>\n",
       "    </tr>\n",
       "    <tr>\n",
       "      <th>1</th>\n",
       "      <td>1.41</td>\n",
       "      <td>0.36</td>\n",
       "      <td>0.19</td>\n",
       "      <td>0.12</td>\n",
       "      <td>1.31</td>\n",
       "      <td>1.59</td>\n",
       "      <td>0.07</td>\n",
       "      <td>0.13</td>\n",
       "      <td>2.41</td>\n",
       "      <td>0.126319</td>\n",
       "      <td>0.014278</td>\n",
       "      <td>0.040179</td>\n",
       "      <td>0</td>\n",
       "    </tr>\n",
       "    <tr>\n",
       "      <th>2</th>\n",
       "      <td>0.31</td>\n",
       "      <td>0.32</td>\n",
       "      <td>0.13</td>\n",
       "      <td>0.08</td>\n",
       "      <td>1.03</td>\n",
       "      <td>1.55</td>\n",
       "      <td>0.05</td>\n",
       "      <td>0.04</td>\n",
       "      <td>2.56</td>\n",
       "      <td>0.368077</td>\n",
       "      <td>0.327909</td>\n",
       "      <td>0.566524</td>\n",
       "      <td>0</td>\n",
       "    </tr>\n",
       "    <tr>\n",
       "      <th>3</th>\n",
       "      <td>0.71</td>\n",
       "      <td>0.28</td>\n",
       "      <td>0.14</td>\n",
       "      <td>0.08</td>\n",
       "      <td>0.80</td>\n",
       "      <td>1.39</td>\n",
       "      <td>0.06</td>\n",
       "      <td>0.05</td>\n",
       "      <td>5.28</td>\n",
       "      <td>-0.020809</td>\n",
       "      <td>-0.118904</td>\n",
       "      <td>-0.095890</td>\n",
       "      <td>0</td>\n",
       "    </tr>\n",
       "    <tr>\n",
       "      <th>4</th>\n",
       "      <td>0.75</td>\n",
       "      <td>0.41</td>\n",
       "      <td>0.13</td>\n",
       "      <td>0.08</td>\n",
       "      <td>0.20</td>\n",
       "      <td>1.30</td>\n",
       "      <td>0.06</td>\n",
       "      <td>0.04</td>\n",
       "      <td>8.68</td>\n",
       "      <td>0.233089</td>\n",
       "      <td>0.146807</td>\n",
       "      <td>0.053030</td>\n",
       "      <td>0</td>\n",
       "    </tr>\n",
       "  </tbody>\n",
       "</table>\n",
       "</div>"
      ],
      "text/plain": [
       "    EPS  Liquidity  Profitability  Productivity  Leverage Ratio  \\\n",
       "0  1.58       0.36           0.18          0.13            1.33   \n",
       "1  1.41       0.36           0.19          0.12            1.31   \n",
       "2  0.31       0.32           0.13          0.08            1.03   \n",
       "3  0.71       0.28           0.14          0.08            0.80   \n",
       "4  0.75       0.41           0.13          0.08            0.20   \n",
       "\n",
       "   Asset Turnover  Operational Margin  Return on Equity  Market Book Ratio  \\\n",
       "0            1.77                0.07              0.15               2.22   \n",
       "1            1.59                0.07              0.13               2.41   \n",
       "2            1.55                0.05              0.04               2.56   \n",
       "3            1.39                0.06              0.05               5.28   \n",
       "4            1.30                0.06              0.04               8.68   \n",
       "\n",
       "   Assets Growth  Sales Growth  Employee Growth  BK  \n",
       "0            NaN           NaN              NaN   0  \n",
       "1       0.126319      0.014278         0.040179   0  \n",
       "2       0.368077      0.327909         0.566524   0  \n",
       "3      -0.020809     -0.118904        -0.095890   0  \n",
       "4       0.233089      0.146807         0.053030   0  "
      ]
     },
     "execution_count": 69,
     "metadata": {},
     "output_type": "execute_result"
    }
   ],
   "source": [
    "dfBk.head()"
   ]
  },
  {
   "cell_type": "code",
   "execution_count": 70,
   "id": "7d06ecd2-9e43-492e-bb95-c67d721ec1bc",
   "metadata": {},
   "outputs": [
    {
     "name": "stdout",
     "output_type": "stream",
     "text": [
      "<class 'pandas.core.frame.DataFrame'>\n",
      "RangeIndex: 92872 entries, 0 to 92871\n",
      "Data columns (total 13 columns):\n",
      " #   Column              Non-Null Count  Dtype  \n",
      "---  ------              --------------  -----  \n",
      " 0   EPS                 92867 non-null  float64\n",
      " 1   Liquidity           92625 non-null  float64\n",
      " 2   Profitability       92625 non-null  float64\n",
      " 3   Productivity        92625 non-null  float64\n",
      " 4   Leverage Ratio      92846 non-null  float64\n",
      " 5   Asset Turnover      92625 non-null  float64\n",
      " 6   Operational Margin  87315 non-null  float64\n",
      " 7   Return on Equity    92864 non-null  float64\n",
      " 8   Market Book Ratio   92815 non-null  float64\n",
      " 9   Assets Growth       86171 non-null  float64\n",
      " 10  Sales Growth        86171 non-null  float64\n",
      " 11  Employee Growth     85862 non-null  float64\n",
      " 12  BK                  92872 non-null  int64  \n",
      "dtypes: float64(12), int64(1)\n",
      "memory usage: 9.2 MB\n"
     ]
    }
   ],
   "source": [
    "dfBk.info()"
   ]
  },
  {
   "cell_type": "code",
   "execution_count": 71,
   "id": "7916ab42-9e18-4e00-afcc-52931bb46d67",
   "metadata": {},
   "outputs": [
    {
     "data": {
      "text/html": [
       "<div>\n",
       "<style scoped>\n",
       "    .dataframe tbody tr th:only-of-type {\n",
       "        vertical-align: middle;\n",
       "    }\n",
       "\n",
       "    .dataframe tbody tr th {\n",
       "        vertical-align: top;\n",
       "    }\n",
       "\n",
       "    .dataframe thead th {\n",
       "        text-align: right;\n",
       "    }\n",
       "</style>\n",
       "<table border=\"1\" class=\"dataframe\">\n",
       "  <thead>\n",
       "    <tr style=\"text-align: right;\">\n",
       "      <th></th>\n",
       "      <th>count</th>\n",
       "      <th>mean</th>\n",
       "      <th>std</th>\n",
       "      <th>min</th>\n",
       "      <th>25%</th>\n",
       "      <th>50%</th>\n",
       "      <th>75%</th>\n",
       "      <th>max</th>\n",
       "    </tr>\n",
       "  </thead>\n",
       "  <tbody>\n",
       "    <tr>\n",
       "      <th>EPS</th>\n",
       "      <td>92867.0</td>\n",
       "      <td>-14.461355</td>\n",
       "      <td>2195.467288</td>\n",
       "      <td>-3.840000e+05</td>\n",
       "      <td>-0.140000</td>\n",
       "      <td>0.330000</td>\n",
       "      <td>1.530000</td>\n",
       "      <td>55339.00</td>\n",
       "    </tr>\n",
       "    <tr>\n",
       "      <th>Liquidity</th>\n",
       "      <td>92625.0</td>\n",
       "      <td>-2.631237</td>\n",
       "      <td>121.610921</td>\n",
       "      <td>-2.596852e+04</td>\n",
       "      <td>0.020000</td>\n",
       "      <td>0.190000</td>\n",
       "      <td>0.400000</td>\n",
       "      <td>1.00</td>\n",
       "    </tr>\n",
       "    <tr>\n",
       "      <th>Profitability</th>\n",
       "      <td>92625.0</td>\n",
       "      <td>-29.537274</td>\n",
       "      <td>677.230667</td>\n",
       "      <td>-7.968200e+04</td>\n",
       "      <td>-0.640000</td>\n",
       "      <td>0.070000</td>\n",
       "      <td>0.310000</td>\n",
       "      <td>140.58</td>\n",
       "    </tr>\n",
       "    <tr>\n",
       "      <th>Productivity</th>\n",
       "      <td>92625.0</td>\n",
       "      <td>-1.222870</td>\n",
       "      <td>35.885556</td>\n",
       "      <td>-5.093000e+03</td>\n",
       "      <td>-0.060000</td>\n",
       "      <td>0.060000</td>\n",
       "      <td>0.110000</td>\n",
       "      <td>1102.00</td>\n",
       "    </tr>\n",
       "    <tr>\n",
       "      <th>Leverage Ratio</th>\n",
       "      <td>92846.0</td>\n",
       "      <td>1.345316</td>\n",
       "      <td>253.038093</td>\n",
       "      <td>-7.811000e+03</td>\n",
       "      <td>0.000000</td>\n",
       "      <td>0.280000</td>\n",
       "      <td>0.820000</td>\n",
       "      <td>75970.38</td>\n",
       "    </tr>\n",
       "    <tr>\n",
       "      <th>Asset Turnover</th>\n",
       "      <td>92625.0</td>\n",
       "      <td>1.053613</td>\n",
       "      <td>2.115945</td>\n",
       "      <td>-3.159000e+01</td>\n",
       "      <td>0.390000</td>\n",
       "      <td>0.830000</td>\n",
       "      <td>1.390000</td>\n",
       "      <td>276.38</td>\n",
       "    </tr>\n",
       "    <tr>\n",
       "      <th>Operational Margin</th>\n",
       "      <td>87315.0</td>\n",
       "      <td>-7.915485</td>\n",
       "      <td>214.460079</td>\n",
       "      <td>-3.017570e+04</td>\n",
       "      <td>-0.030000</td>\n",
       "      <td>0.060000</td>\n",
       "      <td>0.140000</td>\n",
       "      <td>394.47</td>\n",
       "    </tr>\n",
       "    <tr>\n",
       "      <th>Return on Equity</th>\n",
       "      <td>92864.0</td>\n",
       "      <td>-2.112382</td>\n",
       "      <td>352.596902</td>\n",
       "      <td>-8.887514e+04</td>\n",
       "      <td>-0.080000</td>\n",
       "      <td>0.030000</td>\n",
       "      <td>0.070000</td>\n",
       "      <td>39500.00</td>\n",
       "    </tr>\n",
       "    <tr>\n",
       "      <th>Market Book Ratio</th>\n",
       "      <td>92815.0</td>\n",
       "      <td>358.506265</td>\n",
       "      <td>26063.637981</td>\n",
       "      <td>-3.151500e+06</td>\n",
       "      <td>11.200000</td>\n",
       "      <td>58.280000</td>\n",
       "      <td>240.140000</td>\n",
       "      <td>3455419.33</td>\n",
       "    </tr>\n",
       "    <tr>\n",
       "      <th>Assets Growth</th>\n",
       "      <td>86171.0</td>\n",
       "      <td>1.294075</td>\n",
       "      <td>73.769522</td>\n",
       "      <td>-1.000000e+00</td>\n",
       "      <td>-0.052596</td>\n",
       "      <td>0.051844</td>\n",
       "      <td>0.192062</td>\n",
       "      <td>14231.00</td>\n",
       "    </tr>\n",
       "    <tr>\n",
       "      <th>Sales Growth</th>\n",
       "      <td>86171.0</td>\n",
       "      <td>1.900108</td>\n",
       "      <td>177.632638</td>\n",
       "      <td>-2.743103e+01</td>\n",
       "      <td>-0.033522</td>\n",
       "      <td>0.059733</td>\n",
       "      <td>0.204231</td>\n",
       "      <td>39850.00</td>\n",
       "    </tr>\n",
       "    <tr>\n",
       "      <th>Employee Growth</th>\n",
       "      <td>85862.0</td>\n",
       "      <td>0.343322</td>\n",
       "      <td>14.074156</td>\n",
       "      <td>-1.000000e+00</td>\n",
       "      <td>-0.048107</td>\n",
       "      <td>0.017241</td>\n",
       "      <td>0.130944</td>\n",
       "      <td>2699.00</td>\n",
       "    </tr>\n",
       "    <tr>\n",
       "      <th>BK</th>\n",
       "      <td>92872.0</td>\n",
       "      <td>0.006008</td>\n",
       "      <td>0.077280</td>\n",
       "      <td>0.000000e+00</td>\n",
       "      <td>0.000000</td>\n",
       "      <td>0.000000</td>\n",
       "      <td>0.000000</td>\n",
       "      <td>1.00</td>\n",
       "    </tr>\n",
       "  </tbody>\n",
       "</table>\n",
       "</div>"
      ],
      "text/plain": [
       "                      count        mean           std           min  \\\n",
       "EPS                 92867.0  -14.461355   2195.467288 -3.840000e+05   \n",
       "Liquidity           92625.0   -2.631237    121.610921 -2.596852e+04   \n",
       "Profitability       92625.0  -29.537274    677.230667 -7.968200e+04   \n",
       "Productivity        92625.0   -1.222870     35.885556 -5.093000e+03   \n",
       "Leverage Ratio      92846.0    1.345316    253.038093 -7.811000e+03   \n",
       "Asset Turnover      92625.0    1.053613      2.115945 -3.159000e+01   \n",
       "Operational Margin  87315.0   -7.915485    214.460079 -3.017570e+04   \n",
       "Return on Equity    92864.0   -2.112382    352.596902 -8.887514e+04   \n",
       "Market Book Ratio   92815.0  358.506265  26063.637981 -3.151500e+06   \n",
       "Assets Growth       86171.0    1.294075     73.769522 -1.000000e+00   \n",
       "Sales Growth        86171.0    1.900108    177.632638 -2.743103e+01   \n",
       "Employee Growth     85862.0    0.343322     14.074156 -1.000000e+00   \n",
       "BK                  92872.0    0.006008      0.077280  0.000000e+00   \n",
       "\n",
       "                          25%        50%         75%         max  \n",
       "EPS                 -0.140000   0.330000    1.530000    55339.00  \n",
       "Liquidity            0.020000   0.190000    0.400000        1.00  \n",
       "Profitability       -0.640000   0.070000    0.310000      140.58  \n",
       "Productivity        -0.060000   0.060000    0.110000     1102.00  \n",
       "Leverage Ratio       0.000000   0.280000    0.820000    75970.38  \n",
       "Asset Turnover       0.390000   0.830000    1.390000      276.38  \n",
       "Operational Margin  -0.030000   0.060000    0.140000      394.47  \n",
       "Return on Equity    -0.080000   0.030000    0.070000    39500.00  \n",
       "Market Book Ratio   11.200000  58.280000  240.140000  3455419.33  \n",
       "Assets Growth       -0.052596   0.051844    0.192062    14231.00  \n",
       "Sales Growth        -0.033522   0.059733    0.204231    39850.00  \n",
       "Employee Growth     -0.048107   0.017241    0.130944     2699.00  \n",
       "BK                   0.000000   0.000000    0.000000        1.00  "
      ]
     },
     "execution_count": 71,
     "metadata": {},
     "output_type": "execute_result"
    }
   ],
   "source": [
    "dfBk.describe().T"
   ]
  },
  {
   "cell_type": "markdown",
   "id": "68f459ad-d75b-4539-99c1-befe63662d39",
   "metadata": {},
   "source": [
    "#### 1.2 Checking for Null Values"
   ]
  },
  {
   "cell_type": "code",
   "execution_count": 72,
   "id": "b805895b-58b6-4a59-8ebc-1edc9e8cacc5",
   "metadata": {},
   "outputs": [
    {
     "data": {
      "text/plain": [
       "EPS                      5\n",
       "Liquidity              247\n",
       "Profitability          247\n",
       "Productivity           247\n",
       "Leverage Ratio          26\n",
       "Asset Turnover         247\n",
       "Operational Margin    5557\n",
       "Return on Equity         8\n",
       "Market Book Ratio       57\n",
       "Assets Growth         6701\n",
       "Sales Growth          6701\n",
       "Employee Growth       7010\n",
       "BK                       0\n",
       "dtype: int64"
      ]
     },
     "execution_count": 72,
     "metadata": {},
     "output_type": "execute_result"
    }
   ],
   "source": [
    "dfBk.isna().sum()"
   ]
  },
  {
   "cell_type": "code",
   "execution_count": 73,
   "id": "bf2e926a-a9a8-418a-930a-f06464b8ea0d",
   "metadata": {},
   "outputs": [],
   "source": [
    "def top_missing_cols(df,n=10,thresh=80):\n",
    "\n",
    "    # returns missing columns in dataframe with missing values percent > thresh\n",
    "    # if n=None. It will gave whole dataframe with missing values percent > thresh\n",
    "    \n",
    "    dff = (df.isnull().sum()/df.shape[0])*100\n",
    "    dff = dff.reset_index()\n",
    "    dff.columns = ['Columns','MissingPercent']\n",
    "    dff = dff.sort_values(by=['MissingPercent'],ascending=False).reset_index(drop=True)\n",
    "    print(f'There are {df.isnull().any().sum()} columns in this dataset with missing values.')\n",
    "    print(f'There are {dff[dff[\"MissingPercent\"] > thresh].shape[0]} columns with missing percent values than {thresh}%')\n",
    "    if n:\n",
    "        return dff.head(n)\n",
    "    else:\n",
    "        return dff"
   ]
  },
  {
   "cell_type": "code",
   "execution_count": 74,
   "id": "262f765d-7ee5-4150-ba57-c3f7c23070d9",
   "metadata": {},
   "outputs": [
    {
     "name": "stdout",
     "output_type": "stream",
     "text": [
      "There are 12 columns in this dataset with missing values.\n",
      "There are 0 columns with missing percent values than 10%\n"
     ]
    },
    {
     "data": {
      "text/html": [
       "<div>\n",
       "<style scoped>\n",
       "    .dataframe tbody tr th:only-of-type {\n",
       "        vertical-align: middle;\n",
       "    }\n",
       "\n",
       "    .dataframe tbody tr th {\n",
       "        vertical-align: top;\n",
       "    }\n",
       "\n",
       "    .dataframe thead th {\n",
       "        text-align: right;\n",
       "    }\n",
       "</style>\n",
       "<table border=\"1\" class=\"dataframe\">\n",
       "  <thead>\n",
       "    <tr style=\"text-align: right;\">\n",
       "      <th></th>\n",
       "      <th>Columns</th>\n",
       "      <th>MissingPercent</th>\n",
       "    </tr>\n",
       "  </thead>\n",
       "  <tbody>\n",
       "    <tr>\n",
       "      <th>0</th>\n",
       "      <td>Employee Growth</td>\n",
       "      <td>7.548023</td>\n",
       "    </tr>\n",
       "    <tr>\n",
       "      <th>1</th>\n",
       "      <td>Assets Growth</td>\n",
       "      <td>7.215307</td>\n",
       "    </tr>\n",
       "    <tr>\n",
       "      <th>2</th>\n",
       "      <td>Sales Growth</td>\n",
       "      <td>7.215307</td>\n",
       "    </tr>\n",
       "    <tr>\n",
       "      <th>3</th>\n",
       "      <td>Operational Margin</td>\n",
       "      <td>5.983504</td>\n",
       "    </tr>\n",
       "    <tr>\n",
       "      <th>4</th>\n",
       "      <td>Liquidity</td>\n",
       "      <td>0.265957</td>\n",
       "    </tr>\n",
       "    <tr>\n",
       "      <th>5</th>\n",
       "      <td>Profitability</td>\n",
       "      <td>0.265957</td>\n",
       "    </tr>\n",
       "    <tr>\n",
       "      <th>6</th>\n",
       "      <td>Productivity</td>\n",
       "      <td>0.265957</td>\n",
       "    </tr>\n",
       "    <tr>\n",
       "      <th>7</th>\n",
       "      <td>Asset Turnover</td>\n",
       "      <td>0.265957</td>\n",
       "    </tr>\n",
       "    <tr>\n",
       "      <th>8</th>\n",
       "      <td>Market Book Ratio</td>\n",
       "      <td>0.061375</td>\n",
       "    </tr>\n",
       "    <tr>\n",
       "      <th>9</th>\n",
       "      <td>Leverage Ratio</td>\n",
       "      <td>0.027996</td>\n",
       "    </tr>\n",
       "  </tbody>\n",
       "</table>\n",
       "</div>"
      ],
      "text/plain": [
       "              Columns  MissingPercent\n",
       "0     Employee Growth        7.548023\n",
       "1       Assets Growth        7.215307\n",
       "2        Sales Growth        7.215307\n",
       "3  Operational Margin        5.983504\n",
       "4           Liquidity        0.265957\n",
       "5       Profitability        0.265957\n",
       "6        Productivity        0.265957\n",
       "7      Asset Turnover        0.265957\n",
       "8   Market Book Ratio        0.061375\n",
       "9      Leverage Ratio        0.027996"
      ]
     },
     "execution_count": 74,
     "metadata": {},
     "output_type": "execute_result"
    }
   ],
   "source": [
    "top_missing_cols(dfBk, thresh=10)"
   ]
  },
  {
   "cell_type": "code",
   "execution_count": 75,
   "id": "0d9566e7-788b-484d-81e4-e8f01951bd1d",
   "metadata": {},
   "outputs": [
    {
     "data": {
      "image/png": "[encoded data removed]",
      "text/plain": [
       "<Figure size 1600x800 with 1 Axes>"
      ]
     },
     "metadata": {},
     "output_type": "display_data"
    }
   ],
   "source": [
    "missingValues = dfBk.isna().sum()\n",
    "\n",
    "plt.figure(figsize=(16,8))\n",
    "missingValues.plot(kind='bar', color='blue')\n",
    "plt.title('Missing values in each column')\n",
    "plt.xlabel('Columns')\n",
    "plt.ylabel('No. of missing values')\n",
    "plt.xticks(rotation=90)\n",
    "plt.grid()\n",
    "plt.show()"
   ]
  },
  {
   "cell_type": "code",
   "execution_count": 76,
   "id": "533a78bc-b7d3-49d5-857f-4dec8f417814",
   "metadata": {},
   "outputs": [],
   "source": [
    "# dfBk = dfBk.dropna()"
   ]
  },
  {
   "cell_type": "markdown",
   "id": "8cb9504d-5084-4980-96be-cf66f2abf64f",
   "metadata": {},
   "source": [
    "#### 1.3 Checking for Imbalance Target Values"
   ]
  },
  {
   "cell_type": "code",
   "execution_count": 77,
   "id": "3d7c155c-880f-4a2a-97a9-d769fffd787f",
   "metadata": {},
   "outputs": [
    {
     "name": "stdout",
     "output_type": "stream",
     "text": [
      "BK\n",
      "0    92314\n",
      "1      558\n",
      "Name: count, dtype: int64\n"
     ]
    }
   ],
   "source": [
    "bkCounts = dfBk['BK'].value_counts()\n",
    "print(bkCounts)"
   ]
  },
  {
   "cell_type": "code",
   "execution_count": 78,
   "id": "ab03f795-11cb-42fd-90e9-f54152c08951",
   "metadata": {},
   "outputs": [
    {
     "data": {
      "image/png": "[encoded data removed]",
      "text/plain": [
       "<Figure size 1000x600 with 1 Axes>"
      ]
     },
     "metadata": {},
     "output_type": "display_data"
    }
   ],
   "source": [
    "fig, axes = plt.subplots(nrows=1, ncols=1, figsize=(10, 6))\n",
    "sns.countplot(x='BK', data=dfBk, ax=axes)\n",
    "axes.set_title('Target')\n",
    "\n",
    "total = float(len(dfBk['BK']))  # Tổng số lượng mẫu\n",
    "\n",
    "for p in axes.patches:\n",
    "    height = p.get_height()\n",
    "    axes.text(p.get_x() + p.get_width()/2.,\n",
    "              height + 3,\n",
    "              '{:1.2f}%'.format(height * 100 / total),\n",
    "              ha=\"center\")\n",
    "\n",
    "plt.show() "
   ]
  },
  {
   "cell_type": "code",
   "execution_count": 79,
   "id": "707f4386-90ef-4a0e-8fb7-0700da394813",
   "metadata": {},
   "outputs": [],
   "source": [
    "filteredDf = dfBk[dfBk.isnull().any(axis=1) & (dfBk['BK'] == 1)]"
   ]
  },
  {
   "cell_type": "code",
   "execution_count": 80,
   "id": "04066a68-f78b-4475-b3b7-ec58c10d36c2",
   "metadata": {},
   "outputs": [
    {
     "data": {
      "text/html": [
       "<div>\n",
       "<style scoped>\n",
       "    .dataframe tbody tr th:only-of-type {\n",
       "        vertical-align: middle;\n",
       "    }\n",
       "\n",
       "    .dataframe tbody tr th {\n",
       "        vertical-align: top;\n",
       "    }\n",
       "\n",
       "    .dataframe thead th {\n",
       "        text-align: right;\n",
       "    }\n",
       "</style>\n",
       "<table border=\"1\" class=\"dataframe\">\n",
       "  <thead>\n",
       "    <tr style=\"text-align: right;\">\n",
       "      <th></th>\n",
       "      <th>EPS</th>\n",
       "      <th>Liquidity</th>\n",
       "      <th>Profitability</th>\n",
       "      <th>Productivity</th>\n",
       "      <th>Leverage Ratio</th>\n",
       "      <th>Asset Turnover</th>\n",
       "      <th>Operational Margin</th>\n",
       "      <th>Return on Equity</th>\n",
       "      <th>Market Book Ratio</th>\n",
       "      <th>Assets Growth</th>\n",
       "      <th>Sales Growth</th>\n",
       "      <th>Employee Growth</th>\n",
       "      <th>BK</th>\n",
       "    </tr>\n",
       "  </thead>\n",
       "  <tbody>\n",
       "    <tr>\n",
       "      <th>88695</th>\n",
       "      <td>-2.254152</td>\n",
       "      <td>-0.993304</td>\n",
       "      <td>-0.793827</td>\n",
       "      <td>-0.065276</td>\n",
       "      <td>-2.289112</td>\n",
       "      <td>1.261267</td>\n",
       "      <td>-0.051754</td>\n",
       "      <td>-1.001845</td>\n",
       "      <td>-9.379761</td>\n",
       "      <td>-0.244765</td>\n",
       "      <td>-0.225872</td>\n",
       "      <td>NaN</td>\n",
       "      <td>1</td>\n",
       "    </tr>\n",
       "    <tr>\n",
       "      <th>88736</th>\n",
       "      <td>-0.017145</td>\n",
       "      <td>0.975717</td>\n",
       "      <td>-5.698675</td>\n",
       "      <td>-0.091611</td>\n",
       "      <td>0.000000</td>\n",
       "      <td>0.000000</td>\n",
       "      <td>NaN</td>\n",
       "      <td>-0.048987</td>\n",
       "      <td>8.617942</td>\n",
       "      <td>-0.153271</td>\n",
       "      <td>0.000000</td>\n",
       "      <td>0.000000</td>\n",
       "      <td>1</td>\n",
       "    </tr>\n",
       "    <tr>\n",
       "      <th>88747</th>\n",
       "      <td>-0.607550</td>\n",
       "      <td>-6.399343</td>\n",
       "      <td>-20.377157</td>\n",
       "      <td>-3.768283</td>\n",
       "      <td>-0.747523</td>\n",
       "      <td>2.437962</td>\n",
       "      <td>-1.545669</td>\n",
       "      <td>-3.894549</td>\n",
       "      <td>NaN</td>\n",
       "      <td>-0.874871</td>\n",
       "      <td>-0.573278</td>\n",
       "      <td>-0.955882</td>\n",
       "      <td>1</td>\n",
       "    </tr>\n",
       "    <tr>\n",
       "      <th>88774</th>\n",
       "      <td>-0.411383</td>\n",
       "      <td>0.037509</td>\n",
       "      <td>-3.788447</td>\n",
       "      <td>-0.821241</td>\n",
       "      <td>-1.271280</td>\n",
       "      <td>1.150627</td>\n",
       "      <td>-0.713734</td>\n",
       "      <td>-0.143090</td>\n",
       "      <td>-73.836213</td>\n",
       "      <td>-0.184460</td>\n",
       "      <td>-0.399558</td>\n",
       "      <td>NaN</td>\n",
       "      <td>1</td>\n",
       "    </tr>\n",
       "    <tr>\n",
       "      <th>88798</th>\n",
       "      <td>-3.653888</td>\n",
       "      <td>-0.318630</td>\n",
       "      <td>-1.507494</td>\n",
       "      <td>-0.798539</td>\n",
       "      <td>-43.944956</td>\n",
       "      <td>0.173290</td>\n",
       "      <td>-4.608113</td>\n",
       "      <td>-4.175872</td>\n",
       "      <td>NaN</td>\n",
       "      <td>-0.242440</td>\n",
       "      <td>-0.785835</td>\n",
       "      <td>NaN</td>\n",
       "      <td>1</td>\n",
       "    </tr>\n",
       "    <tr>\n",
       "      <th>...</th>\n",
       "      <td>...</td>\n",
       "      <td>...</td>\n",
       "      <td>...</td>\n",
       "      <td>...</td>\n",
       "      <td>...</td>\n",
       "      <td>...</td>\n",
       "      <td>...</td>\n",
       "      <td>...</td>\n",
       "      <td>...</td>\n",
       "      <td>...</td>\n",
       "      <td>...</td>\n",
       "      <td>...</td>\n",
       "      <td>...</td>\n",
       "    </tr>\n",
       "    <tr>\n",
       "      <th>92693</th>\n",
       "      <td>0.013185</td>\n",
       "      <td>0.125143</td>\n",
       "      <td>-1.530914</td>\n",
       "      <td>0.053813</td>\n",
       "      <td>0.498599</td>\n",
       "      <td>1.431990</td>\n",
       "      <td>0.037579</td>\n",
       "      <td>0.164817</td>\n",
       "      <td>11.532664</td>\n",
       "      <td>0.128132</td>\n",
       "      <td>0.107206</td>\n",
       "      <td>NaN</td>\n",
       "      <td>1</td>\n",
       "    </tr>\n",
       "    <tr>\n",
       "      <th>92733</th>\n",
       "      <td>-0.402621</td>\n",
       "      <td>-1.115373</td>\n",
       "      <td>-4.215341</td>\n",
       "      <td>-1.253379</td>\n",
       "      <td>-1.984741</td>\n",
       "      <td>1.681861</td>\n",
       "      <td>-0.745234</td>\n",
       "      <td>-6.710348</td>\n",
       "      <td>-3.523469</td>\n",
       "      <td>-0.687217</td>\n",
       "      <td>-0.512440</td>\n",
       "      <td>NaN</td>\n",
       "      <td>1</td>\n",
       "    </tr>\n",
       "    <tr>\n",
       "      <th>92783</th>\n",
       "      <td>-0.033713</td>\n",
       "      <td>-1.646449</td>\n",
       "      <td>-10.187550</td>\n",
       "      <td>-0.855547</td>\n",
       "      <td>-1.273790</td>\n",
       "      <td>0.759777</td>\n",
       "      <td>-1.126050</td>\n",
       "      <td>-0.177438</td>\n",
       "      <td>-138.388768</td>\n",
       "      <td>-0.317166</td>\n",
       "      <td>-0.345704</td>\n",
       "      <td>NaN</td>\n",
       "      <td>1</td>\n",
       "    </tr>\n",
       "    <tr>\n",
       "      <th>92799</th>\n",
       "      <td>-26.000004</td>\n",
       "      <td>-0.059992</td>\n",
       "      <td>-2.247404</td>\n",
       "      <td>-0.173649</td>\n",
       "      <td>-0.493578</td>\n",
       "      <td>0.624751</td>\n",
       "      <td>-0.277950</td>\n",
       "      <td>-2363.636772</td>\n",
       "      <td>NaN</td>\n",
       "      <td>-0.557942</td>\n",
       "      <td>-0.308372</td>\n",
       "      <td>NaN</td>\n",
       "      <td>1</td>\n",
       "    </tr>\n",
       "    <tr>\n",
       "      <th>92855</th>\n",
       "      <td>1.844219</td>\n",
       "      <td>-0.469218</td>\n",
       "      <td>0.100666</td>\n",
       "      <td>0.026345</td>\n",
       "      <td>1.525394</td>\n",
       "      <td>0.351082</td>\n",
       "      <td>0.075039</td>\n",
       "      <td>1.229480</td>\n",
       "      <td>6.728955</td>\n",
       "      <td>-0.111513</td>\n",
       "      <td>-0.136970</td>\n",
       "      <td>NaN</td>\n",
       "      <td>1</td>\n",
       "    </tr>\n",
       "  </tbody>\n",
       "</table>\n",
       "<p>85 rows × 13 columns</p>\n",
       "</div>"
      ],
      "text/plain": [
       "             EPS  Liquidity  Profitability  Productivity  Leverage Ratio  \\\n",
       "88695  -2.254152  -0.993304      -0.793827     -0.065276       -2.289112   \n",
       "88736  -0.017145   0.975717      -5.698675     -0.091611        0.000000   \n",
       "88747  -0.607550  -6.399343     -20.377157     -3.768283       -0.747523   \n",
       "88774  -0.411383   0.037509      -3.788447     -0.821241       -1.271280   \n",
       "88798  -3.653888  -0.318630      -1.507494     -0.798539      -43.944956   \n",
       "...          ...        ...            ...           ...             ...   \n",
       "92693   0.013185   0.125143      -1.530914      0.053813        0.498599   \n",
       "92733  -0.402621  -1.115373      -4.215341     -1.253379       -1.984741   \n",
       "92783  -0.033713  -1.646449     -10.187550     -0.855547       -1.273790   \n",
       "92799 -26.000004  -0.059992      -2.247404     -0.173649       -0.493578   \n",
       "92855   1.844219  -0.469218       0.100666      0.026345        1.525394   \n",
       "\n",
       "       Asset Turnover  Operational Margin  Return on Equity  \\\n",
       "88695        1.261267           -0.051754         -1.001845   \n",
       "88736        0.000000                 NaN         -0.048987   \n",
       "88747        2.437962           -1.545669         -3.894549   \n",
       "88774        1.150627           -0.713734         -0.143090   \n",
       "88798        0.173290           -4.608113         -4.175872   \n",
       "...               ...                 ...               ...   \n",
       "92693        1.431990            0.037579          0.164817   \n",
       "92733        1.681861           -0.745234         -6.710348   \n",
       "92783        0.759777           -1.126050         -0.177438   \n",
       "92799        0.624751           -0.277950      -2363.636772   \n",
       "92855        0.351082            0.075039          1.229480   \n",
       "\n",
       "       Market Book Ratio  Assets Growth  Sales Growth  Employee Growth  BK  \n",
       "88695          -9.379761      -0.244765     -0.225872              NaN   1  \n",
       "88736           8.617942      -0.153271      0.000000         0.000000   1  \n",
       "88747                NaN      -0.874871     -0.573278        -0.955882   1  \n",
       "88774         -73.836213      -0.184460     -0.399558              NaN   1  \n",
       "88798                NaN      -0.242440     -0.785835              NaN   1  \n",
       "...                  ...            ...           ...              ...  ..  \n",
       "92693          11.532664       0.128132      0.107206              NaN   1  \n",
       "92733          -3.523469      -0.687217     -0.512440              NaN   1  \n",
       "92783        -138.388768      -0.317166     -0.345704              NaN   1  \n",
       "92799                NaN      -0.557942     -0.308372              NaN   1  \n",
       "92855           6.728955      -0.111513     -0.136970              NaN   1  \n",
       "\n",
       "[85 rows x 13 columns]"
      ]
     },
     "execution_count": 80,
     "metadata": {},
     "output_type": "execute_result"
    }
   ],
   "source": [
    "filteredDf"
   ]
  },
  {
   "cell_type": "code",
   "execution_count": 81,
   "id": "2895bda5-2c0f-4274-856d-67181c5f23cc",
   "metadata": {},
   "outputs": [
    {
     "name": "stdout",
     "output_type": "stream",
     "text": [
      "<class 'pandas.core.frame.DataFrame'>\n",
      "Index: 85 entries, 88695 to 92855\n",
      "Data columns (total 13 columns):\n",
      " #   Column              Non-Null Count  Dtype  \n",
      "---  ------              --------------  -----  \n",
      " 0   EPS                 81 non-null     float64\n",
      " 1   Liquidity           85 non-null     float64\n",
      " 2   Profitability       85 non-null     float64\n",
      " 3   Productivity        85 non-null     float64\n",
      " 4   Leverage Ratio      84 non-null     float64\n",
      " 5   Asset Turnover      85 non-null     float64\n",
      " 6   Operational Margin  68 non-null     float64\n",
      " 7   Return on Equity    81 non-null     float64\n",
      " 8   Market Book Ratio   76 non-null     float64\n",
      " 9   Assets Growth       85 non-null     float64\n",
      " 10  Sales Growth        85 non-null     float64\n",
      " 11  Employee Growth     13 non-null     float64\n",
      " 12  BK                  85 non-null     int64  \n",
      "dtypes: float64(12), int64(1)\n",
      "memory usage: 9.3 KB\n"
     ]
    }
   ],
   "source": [
    "filteredDf.info()"
   ]
  },
  {
   "cell_type": "code",
   "execution_count": 82,
   "id": "5ec11770-41cf-4fc4-a285-0f57c58ec5ac",
   "metadata": {},
   "outputs": [
    {
     "name": "stdout",
     "output_type": "stream",
     "text": [
      "There are 6 columns in this dataset with missing values.\n",
      "There are 0 columns with missing percent values than 90%\n"
     ]
    },
    {
     "data": {
      "text/html": [
       "<div>\n",
       "<style scoped>\n",
       "    .dataframe tbody tr th:only-of-type {\n",
       "        vertical-align: middle;\n",
       "    }\n",
       "\n",
       "    .dataframe tbody tr th {\n",
       "        vertical-align: top;\n",
       "    }\n",
       "\n",
       "    .dataframe thead th {\n",
       "        text-align: right;\n",
       "    }\n",
       "</style>\n",
       "<table border=\"1\" class=\"dataframe\">\n",
       "  <thead>\n",
       "    <tr style=\"text-align: right;\">\n",
       "      <th></th>\n",
       "      <th>Columns</th>\n",
       "      <th>MissingPercent</th>\n",
       "    </tr>\n",
       "  </thead>\n",
       "  <tbody>\n",
       "    <tr>\n",
       "      <th>0</th>\n",
       "      <td>Employee Growth</td>\n",
       "      <td>84.705882</td>\n",
       "    </tr>\n",
       "    <tr>\n",
       "      <th>1</th>\n",
       "      <td>Operational Margin</td>\n",
       "      <td>20.000000</td>\n",
       "    </tr>\n",
       "    <tr>\n",
       "      <th>2</th>\n",
       "      <td>Market Book Ratio</td>\n",
       "      <td>10.588235</td>\n",
       "    </tr>\n",
       "    <tr>\n",
       "      <th>3</th>\n",
       "      <td>EPS</td>\n",
       "      <td>4.705882</td>\n",
       "    </tr>\n",
       "    <tr>\n",
       "      <th>4</th>\n",
       "      <td>Return on Equity</td>\n",
       "      <td>4.705882</td>\n",
       "    </tr>\n",
       "    <tr>\n",
       "      <th>5</th>\n",
       "      <td>Leverage Ratio</td>\n",
       "      <td>1.176471</td>\n",
       "    </tr>\n",
       "    <tr>\n",
       "      <th>6</th>\n",
       "      <td>Liquidity</td>\n",
       "      <td>0.000000</td>\n",
       "    </tr>\n",
       "    <tr>\n",
       "      <th>7</th>\n",
       "      <td>Profitability</td>\n",
       "      <td>0.000000</td>\n",
       "    </tr>\n",
       "    <tr>\n",
       "      <th>8</th>\n",
       "      <td>Productivity</td>\n",
       "      <td>0.000000</td>\n",
       "    </tr>\n",
       "    <tr>\n",
       "      <th>9</th>\n",
       "      <td>Asset Turnover</td>\n",
       "      <td>0.000000</td>\n",
       "    </tr>\n",
       "  </tbody>\n",
       "</table>\n",
       "</div>"
      ],
      "text/plain": [
       "              Columns  MissingPercent\n",
       "0     Employee Growth       84.705882\n",
       "1  Operational Margin       20.000000\n",
       "2   Market Book Ratio       10.588235\n",
       "3                 EPS        4.705882\n",
       "4    Return on Equity        4.705882\n",
       "5      Leverage Ratio        1.176471\n",
       "6           Liquidity        0.000000\n",
       "7       Profitability        0.000000\n",
       "8        Productivity        0.000000\n",
       "9      Asset Turnover        0.000000"
      ]
     },
     "execution_count": 82,
     "metadata": {},
     "output_type": "execute_result"
    }
   ],
   "source": [
    "top_missing_cols(filteredDf, thresh=90)"
   ]
  },
  {
   "cell_type": "markdown",
   "id": "5bef10cc-86bc-49dd-aed9-11e21543336c",
   "metadata": {},
   "source": [
    "#### 1.4 Handling Null Values"
   ]
  },
  {
   "cell_type": "code",
   "execution_count": 83,
   "id": "e25228b2-a627-4a11-b028-8c64c1e260fc",
   "metadata": {},
   "outputs": [],
   "source": [
    "dfBk.dropna(subset=['Liquidity'], inplace=True)"
   ]
  },
  {
   "cell_type": "code",
   "execution_count": 84,
   "id": "431be8b8-f042-4256-a4b1-ab833d8d3b2b",
   "metadata": {},
   "outputs": [],
   "source": [
    "dfBk.dropna(subset=['Assets Growth'],inplace=True)"
   ]
  },
  {
   "cell_type": "code",
   "execution_count": 85,
   "id": "2c27ee7f-6c02-4383-a09e-c7c0e8903b3f",
   "metadata": {},
   "outputs": [
    {
     "data": {
      "text/plain": [
       "EPS                      5\n",
       "Liquidity                0\n",
       "Profitability            0\n",
       "Productivity             0\n",
       "Leverage Ratio           9\n",
       "Asset Turnover           0\n",
       "Operational Margin    4463\n",
       "Return on Equity         8\n",
       "Market Book Ratio       30\n",
       "Assets Growth            0\n",
       "Sales Growth             0\n",
       "Employee Growth        308\n",
       "BK                       0\n",
       "dtype: int64"
      ]
     },
     "execution_count": 85,
     "metadata": {},
     "output_type": "execute_result"
    }
   ],
   "source": [
    "dfBk.isna().sum()"
   ]
  },
  {
   "cell_type": "code",
   "execution_count": 86,
   "id": "1d8588ce-7dad-45be-b923-fa445e0f1081",
   "metadata": {},
   "outputs": [],
   "source": [
    "filteredDf1 = dfBk[dfBk.isnull().any(axis=1) & (dfBk['BK'] == 1)]"
   ]
  },
  {
   "cell_type": "code",
   "execution_count": 87,
   "id": "439151b3-17dd-4c64-8817-fa6b6d11eedd",
   "metadata": {},
   "outputs": [
    {
     "data": {
      "text/html": [
       "<div>\n",
       "<style scoped>\n",
       "    .dataframe tbody tr th:only-of-type {\n",
       "        vertical-align: middle;\n",
       "    }\n",
       "\n",
       "    .dataframe tbody tr th {\n",
       "        vertical-align: top;\n",
       "    }\n",
       "\n",
       "    .dataframe thead th {\n",
       "        text-align: right;\n",
       "    }\n",
       "</style>\n",
       "<table border=\"1\" class=\"dataframe\">\n",
       "  <thead>\n",
       "    <tr style=\"text-align: right;\">\n",
       "      <th></th>\n",
       "      <th>EPS</th>\n",
       "      <th>Liquidity</th>\n",
       "      <th>Profitability</th>\n",
       "      <th>Productivity</th>\n",
       "      <th>Leverage Ratio</th>\n",
       "      <th>Asset Turnover</th>\n",
       "      <th>Operational Margin</th>\n",
       "      <th>Return on Equity</th>\n",
       "      <th>Market Book Ratio</th>\n",
       "      <th>Assets Growth</th>\n",
       "      <th>Sales Growth</th>\n",
       "      <th>Employee Growth</th>\n",
       "      <th>BK</th>\n",
       "    </tr>\n",
       "  </thead>\n",
       "  <tbody>\n",
       "    <tr>\n",
       "      <th>88695</th>\n",
       "      <td>-2.254152</td>\n",
       "      <td>-0.993304</td>\n",
       "      <td>-0.793827</td>\n",
       "      <td>-0.065276</td>\n",
       "      <td>-2.289112</td>\n",
       "      <td>1.261267</td>\n",
       "      <td>-0.051754</td>\n",
       "      <td>-1.001845</td>\n",
       "      <td>-9.379761</td>\n",
       "      <td>-0.244765</td>\n",
       "      <td>-0.225872</td>\n",
       "      <td>NaN</td>\n",
       "      <td>1</td>\n",
       "    </tr>\n",
       "    <tr>\n",
       "      <th>88736</th>\n",
       "      <td>-0.017145</td>\n",
       "      <td>0.975717</td>\n",
       "      <td>-5.698675</td>\n",
       "      <td>-0.091611</td>\n",
       "      <td>0.000000</td>\n",
       "      <td>0.000000</td>\n",
       "      <td>NaN</td>\n",
       "      <td>-0.048987</td>\n",
       "      <td>8.617942</td>\n",
       "      <td>-0.153271</td>\n",
       "      <td>0.000000</td>\n",
       "      <td>0.000000</td>\n",
       "      <td>1</td>\n",
       "    </tr>\n",
       "    <tr>\n",
       "      <th>88747</th>\n",
       "      <td>-0.607550</td>\n",
       "      <td>-6.399343</td>\n",
       "      <td>-20.377157</td>\n",
       "      <td>-3.768283</td>\n",
       "      <td>-0.747523</td>\n",
       "      <td>2.437962</td>\n",
       "      <td>-1.545669</td>\n",
       "      <td>-3.894549</td>\n",
       "      <td>NaN</td>\n",
       "      <td>-0.874871</td>\n",
       "      <td>-0.573278</td>\n",
       "      <td>-0.955882</td>\n",
       "      <td>1</td>\n",
       "    </tr>\n",
       "    <tr>\n",
       "      <th>88774</th>\n",
       "      <td>-0.411383</td>\n",
       "      <td>0.037509</td>\n",
       "      <td>-3.788447</td>\n",
       "      <td>-0.821241</td>\n",
       "      <td>-1.271280</td>\n",
       "      <td>1.150627</td>\n",
       "      <td>-0.713734</td>\n",
       "      <td>-0.143090</td>\n",
       "      <td>-73.836213</td>\n",
       "      <td>-0.184460</td>\n",
       "      <td>-0.399558</td>\n",
       "      <td>NaN</td>\n",
       "      <td>1</td>\n",
       "    </tr>\n",
       "    <tr>\n",
       "      <th>88798</th>\n",
       "      <td>-3.653888</td>\n",
       "      <td>-0.318630</td>\n",
       "      <td>-1.507494</td>\n",
       "      <td>-0.798539</td>\n",
       "      <td>-43.944956</td>\n",
       "      <td>0.173290</td>\n",
       "      <td>-4.608113</td>\n",
       "      <td>-4.175872</td>\n",
       "      <td>NaN</td>\n",
       "      <td>-0.242440</td>\n",
       "      <td>-0.785835</td>\n",
       "      <td>NaN</td>\n",
       "      <td>1</td>\n",
       "    </tr>\n",
       "    <tr>\n",
       "      <th>...</th>\n",
       "      <td>...</td>\n",
       "      <td>...</td>\n",
       "      <td>...</td>\n",
       "      <td>...</td>\n",
       "      <td>...</td>\n",
       "      <td>...</td>\n",
       "      <td>...</td>\n",
       "      <td>...</td>\n",
       "      <td>...</td>\n",
       "      <td>...</td>\n",
       "      <td>...</td>\n",
       "      <td>...</td>\n",
       "      <td>...</td>\n",
       "    </tr>\n",
       "    <tr>\n",
       "      <th>92693</th>\n",
       "      <td>0.013185</td>\n",
       "      <td>0.125143</td>\n",
       "      <td>-1.530914</td>\n",
       "      <td>0.053813</td>\n",
       "      <td>0.498599</td>\n",
       "      <td>1.431990</td>\n",
       "      <td>0.037579</td>\n",
       "      <td>0.164817</td>\n",
       "      <td>11.532664</td>\n",
       "      <td>0.128132</td>\n",
       "      <td>0.107206</td>\n",
       "      <td>NaN</td>\n",
       "      <td>1</td>\n",
       "    </tr>\n",
       "    <tr>\n",
       "      <th>92733</th>\n",
       "      <td>-0.402621</td>\n",
       "      <td>-1.115373</td>\n",
       "      <td>-4.215341</td>\n",
       "      <td>-1.253379</td>\n",
       "      <td>-1.984741</td>\n",
       "      <td>1.681861</td>\n",
       "      <td>-0.745234</td>\n",
       "      <td>-6.710348</td>\n",
       "      <td>-3.523469</td>\n",
       "      <td>-0.687217</td>\n",
       "      <td>-0.512440</td>\n",
       "      <td>NaN</td>\n",
       "      <td>1</td>\n",
       "    </tr>\n",
       "    <tr>\n",
       "      <th>92783</th>\n",
       "      <td>-0.033713</td>\n",
       "      <td>-1.646449</td>\n",
       "      <td>-10.187550</td>\n",
       "      <td>-0.855547</td>\n",
       "      <td>-1.273790</td>\n",
       "      <td>0.759777</td>\n",
       "      <td>-1.126050</td>\n",
       "      <td>-0.177438</td>\n",
       "      <td>-138.388768</td>\n",
       "      <td>-0.317166</td>\n",
       "      <td>-0.345704</td>\n",
       "      <td>NaN</td>\n",
       "      <td>1</td>\n",
       "    </tr>\n",
       "    <tr>\n",
       "      <th>92799</th>\n",
       "      <td>-26.000004</td>\n",
       "      <td>-0.059992</td>\n",
       "      <td>-2.247404</td>\n",
       "      <td>-0.173649</td>\n",
       "      <td>-0.493578</td>\n",
       "      <td>0.624751</td>\n",
       "      <td>-0.277950</td>\n",
       "      <td>-2363.636772</td>\n",
       "      <td>NaN</td>\n",
       "      <td>-0.557942</td>\n",
       "      <td>-0.308372</td>\n",
       "      <td>NaN</td>\n",
       "      <td>1</td>\n",
       "    </tr>\n",
       "    <tr>\n",
       "      <th>92855</th>\n",
       "      <td>1.844219</td>\n",
       "      <td>-0.469218</td>\n",
       "      <td>0.100666</td>\n",
       "      <td>0.026345</td>\n",
       "      <td>1.525394</td>\n",
       "      <td>0.351082</td>\n",
       "      <td>0.075039</td>\n",
       "      <td>1.229480</td>\n",
       "      <td>6.728955</td>\n",
       "      <td>-0.111513</td>\n",
       "      <td>-0.136970</td>\n",
       "      <td>NaN</td>\n",
       "      <td>1</td>\n",
       "    </tr>\n",
       "  </tbody>\n",
       "</table>\n",
       "<p>85 rows × 13 columns</p>\n",
       "</div>"
      ],
      "text/plain": [
       "             EPS  Liquidity  Profitability  Productivity  Leverage Ratio  \\\n",
       "88695  -2.254152  -0.993304      -0.793827     -0.065276       -2.289112   \n",
       "88736  -0.017145   0.975717      -5.698675     -0.091611        0.000000   \n",
       "88747  -0.607550  -6.399343     -20.377157     -3.768283       -0.747523   \n",
       "88774  -0.411383   0.037509      -3.788447     -0.821241       -1.271280   \n",
       "88798  -3.653888  -0.318630      -1.507494     -0.798539      -43.944956   \n",
       "...          ...        ...            ...           ...             ...   \n",
       "92693   0.013185   0.125143      -1.530914      0.053813        0.498599   \n",
       "92733  -0.402621  -1.115373      -4.215341     -1.253379       -1.984741   \n",
       "92783  -0.033713  -1.646449     -10.187550     -0.855547       -1.273790   \n",
       "92799 -26.000004  -0.059992      -2.247404     -0.173649       -0.493578   \n",
       "92855   1.844219  -0.469218       0.100666      0.026345        1.525394   \n",
       "\n",
       "       Asset Turnover  Operational Margin  Return on Equity  \\\n",
       "88695        1.261267           -0.051754         -1.001845   \n",
       "88736        0.000000                 NaN         -0.048987   \n",
       "88747        2.437962           -1.545669         -3.894549   \n",
       "88774        1.150627           -0.713734         -0.143090   \n",
       "88798        0.173290           -4.608113         -4.175872   \n",
       "...               ...                 ...               ...   \n",
       "92693        1.431990            0.037579          0.164817   \n",
       "92733        1.681861           -0.745234         -6.710348   \n",
       "92783        0.759777           -1.126050         -0.177438   \n",
       "92799        0.624751           -0.277950      -2363.636772   \n",
       "92855        0.351082            0.075039          1.229480   \n",
       "\n",
       "       Market Book Ratio  Assets Growth  Sales Growth  Employee Growth  BK  \n",
       "88695          -9.379761      -0.244765     -0.225872              NaN   1  \n",
       "88736           8.617942      -0.153271      0.000000         0.000000   1  \n",
       "88747                NaN      -0.874871     -0.573278        -0.955882   1  \n",
       "88774         -73.836213      -0.184460     -0.399558              NaN   1  \n",
       "88798                NaN      -0.242440     -0.785835              NaN   1  \n",
       "...                  ...            ...           ...              ...  ..  \n",
       "92693          11.532664       0.128132      0.107206              NaN   1  \n",
       "92733          -3.523469      -0.687217     -0.512440              NaN   1  \n",
       "92783        -138.388768      -0.317166     -0.345704              NaN   1  \n",
       "92799                NaN      -0.557942     -0.308372              NaN   1  \n",
       "92855           6.728955      -0.111513     -0.136970              NaN   1  \n",
       "\n",
       "[85 rows x 13 columns]"
      ]
     },
     "execution_count": 87,
     "metadata": {},
     "output_type": "execute_result"
    }
   ],
   "source": [
    "filteredDf1"
   ]
  },
  {
   "cell_type": "code",
   "execution_count": 88,
   "id": "7b8bb151-720f-44a0-b56e-847ed4e82fcf",
   "metadata": {},
   "outputs": [
    {
     "name": "stdout",
     "output_type": "stream",
     "text": [
      "There are 6 columns in this dataset with missing values.\n",
      "There are 0 columns with missing percent values than 90%\n"
     ]
    },
    {
     "data": {
      "text/html": [
       "<div>\n",
       "<style scoped>\n",
       "    .dataframe tbody tr th:only-of-type {\n",
       "        vertical-align: middle;\n",
       "    }\n",
       "\n",
       "    .dataframe tbody tr th {\n",
       "        vertical-align: top;\n",
       "    }\n",
       "\n",
       "    .dataframe thead th {\n",
       "        text-align: right;\n",
       "    }\n",
       "</style>\n",
       "<table border=\"1\" class=\"dataframe\">\n",
       "  <thead>\n",
       "    <tr style=\"text-align: right;\">\n",
       "      <th></th>\n",
       "      <th>Columns</th>\n",
       "      <th>MissingPercent</th>\n",
       "    </tr>\n",
       "  </thead>\n",
       "  <tbody>\n",
       "    <tr>\n",
       "      <th>0</th>\n",
       "      <td>Employee Growth</td>\n",
       "      <td>84.705882</td>\n",
       "    </tr>\n",
       "    <tr>\n",
       "      <th>1</th>\n",
       "      <td>Operational Margin</td>\n",
       "      <td>20.000000</td>\n",
       "    </tr>\n",
       "    <tr>\n",
       "      <th>2</th>\n",
       "      <td>Market Book Ratio</td>\n",
       "      <td>10.588235</td>\n",
       "    </tr>\n",
       "    <tr>\n",
       "      <th>3</th>\n",
       "      <td>EPS</td>\n",
       "      <td>4.705882</td>\n",
       "    </tr>\n",
       "    <tr>\n",
       "      <th>4</th>\n",
       "      <td>Return on Equity</td>\n",
       "      <td>4.705882</td>\n",
       "    </tr>\n",
       "    <tr>\n",
       "      <th>5</th>\n",
       "      <td>Leverage Ratio</td>\n",
       "      <td>1.176471</td>\n",
       "    </tr>\n",
       "    <tr>\n",
       "      <th>6</th>\n",
       "      <td>Liquidity</td>\n",
       "      <td>0.000000</td>\n",
       "    </tr>\n",
       "    <tr>\n",
       "      <th>7</th>\n",
       "      <td>Profitability</td>\n",
       "      <td>0.000000</td>\n",
       "    </tr>\n",
       "    <tr>\n",
       "      <th>8</th>\n",
       "      <td>Productivity</td>\n",
       "      <td>0.000000</td>\n",
       "    </tr>\n",
       "    <tr>\n",
       "      <th>9</th>\n",
       "      <td>Asset Turnover</td>\n",
       "      <td>0.000000</td>\n",
       "    </tr>\n",
       "  </tbody>\n",
       "</table>\n",
       "</div>"
      ],
      "text/plain": [
       "              Columns  MissingPercent\n",
       "0     Employee Growth       84.705882\n",
       "1  Operational Margin       20.000000\n",
       "2   Market Book Ratio       10.588235\n",
       "3                 EPS        4.705882\n",
       "4    Return on Equity        4.705882\n",
       "5      Leverage Ratio        1.176471\n",
       "6           Liquidity        0.000000\n",
       "7       Profitability        0.000000\n",
       "8        Productivity        0.000000\n",
       "9      Asset Turnover        0.000000"
      ]
     },
     "execution_count": 88,
     "metadata": {},
     "output_type": "execute_result"
    }
   ],
   "source": [
    "top_missing_cols(filteredDf1, thresh=90)"
   ]
  },
  {
   "cell_type": "code",
   "execution_count": 158,
   "id": "a2eae342-3aad-46a2-8dd2-c3200b379529",
   "metadata": {},
   "outputs": [
    {
     "data": {
      "image/png": "[encoded data removed]",
      "text/plain": [
       "<Figure size 1000x600 with 1 Axes>"
      ]
     },
     "metadata": {},
     "output_type": "display_data"
    }
   ],
   "source": [
    "plt.figure(figsize=(10, 6))\n",
    "plt.hist(filteredDf1['Employee Growth'], bins=30, density=True, alpha=0.6)\n",
    "plt.title('Histogram for Employee Growth')\n",
    "plt.xlabel('Employee Growth')\n",
    "plt.ylabel('Values')\n",
    "plt.show()"
   ]
  },
  {
   "cell_type": "code",
   "execution_count": 90,
   "id": "de33ba54-2730-4c92-a24d-c479fec8b91b",
   "metadata": {},
   "outputs": [
    {
     "data": {
      "text/plain": [
       "(85, 13)"
      ]
     },
     "execution_count": 90,
     "metadata": {},
     "output_type": "execute_result"
    }
   ],
   "source": [
    "filteredDf1.shape"
   ]
  },
  {
   "cell_type": "code",
   "execution_count": 91,
   "id": "978380cb-e064-49ac-ba15-03c53c7ac063",
   "metadata": {},
   "outputs": [
    {
     "data": {
      "text/plain": [
       "EPS                      5\n",
       "Liquidity                0\n",
       "Profitability            0\n",
       "Productivity             0\n",
       "Leverage Ratio           9\n",
       "Asset Turnover           0\n",
       "Operational Margin    4463\n",
       "Return on Equity         8\n",
       "Market Book Ratio       30\n",
       "Assets Growth            0\n",
       "Sales Growth             0\n",
       "Employee Growth        308\n",
       "BK                       0\n",
       "dtype: int64"
      ]
     },
     "execution_count": 91,
     "metadata": {},
     "output_type": "execute_result"
    }
   ],
   "source": [
    "dfBk.isna().sum()"
   ]
  },
  {
   "cell_type": "code",
   "execution_count": 92,
   "id": "34b89acf-f3e0-42f5-9c3c-bb02d81e8d9a",
   "metadata": {},
   "outputs": [
    {
     "data": {
      "text/plain": [
       "(85977, 13)"
      ]
     },
     "execution_count": 92,
     "metadata": {},
     "output_type": "execute_result"
    }
   ],
   "source": [
    "dfBk.shape"
   ]
  },
  {
   "cell_type": "code",
   "execution_count": 93,
   "id": "2887b429-9065-446d-9c04-5a1596f8d165",
   "metadata": {},
   "outputs": [],
   "source": [
    "dfBk['Operational Margin'] = dfBk['Operational Margin'].fillna(dfBk['Operational Margin'].median())"
   ]
  },
  {
   "cell_type": "code",
   "execution_count": 94,
   "id": "1250dffb-10b7-4814-8c37-b024f75748d2",
   "metadata": {},
   "outputs": [],
   "source": [
    "dfBk['EPS'] = dfBk['EPS'].fillna(dfBk['EPS'].median())"
   ]
  },
  {
   "cell_type": "code",
   "execution_count": 95,
   "id": "622ea408-555f-4394-ae48-066bb60dd6c1",
   "metadata": {},
   "outputs": [],
   "source": [
    "dfBk['Leverage Ratio'] = dfBk['Leverage Ratio'].fillna(dfBk['Leverage Ratio'].median())"
   ]
  },
  {
   "cell_type": "code",
   "execution_count": 96,
   "id": "077c4814-d531-41b5-a1a9-599e0e7923b5",
   "metadata": {},
   "outputs": [],
   "source": [
    "dfBk['Market Book Ratio'] = dfBk['Market Book Ratio'].fillna(dfBk['Market Book Ratio'].median())"
   ]
  },
  {
   "cell_type": "code",
   "execution_count": 97,
   "id": "3930c68f-0965-4f78-ae08-c43fd80b5a0a",
   "metadata": {},
   "outputs": [],
   "source": [
    "dfBk['Return on Equity'] = dfBk['Return on Equity'].fillna(dfBk['Return on Equity'].median())"
   ]
  },
  {
   "cell_type": "code",
   "execution_count": 98,
   "id": "e9089b25-042d-41fc-a67d-b705e789eb0e",
   "metadata": {},
   "outputs": [],
   "source": [
    "dfBk['Employee Growth'] = dfBk['Employee Growth'].fillna(dfBk['Employee Growth'].mean())"
   ]
  },
  {
   "cell_type": "code",
   "execution_count": 99,
   "id": "ae15ba8a-a3c1-4885-8f41-b6c2e7360a9b",
   "metadata": {},
   "outputs": [
    {
     "data": {
      "text/plain": [
       "EPS                   0\n",
       "Liquidity             0\n",
       "Profitability         0\n",
       "Productivity          0\n",
       "Leverage Ratio        0\n",
       "Asset Turnover        0\n",
       "Operational Margin    0\n",
       "Return on Equity      0\n",
       "Market Book Ratio     0\n",
       "Assets Growth         0\n",
       "Sales Growth          0\n",
       "Employee Growth       0\n",
       "BK                    0\n",
       "dtype: int64"
      ]
     },
     "execution_count": 99,
     "metadata": {},
     "output_type": "execute_result"
    }
   ],
   "source": [
    "dfBk.isna().sum()"
   ]
  },
  {
   "cell_type": "markdown",
   "id": "8c93b152-af48-4bdd-87c1-d1370b08881a",
   "metadata": {},
   "source": [
    "#### 1.5 Handling Duplicated Values"
   ]
  },
  {
   "cell_type": "code",
   "execution_count": 100,
   "id": "5e9a8813-e472-4ed4-a8fb-453d944eacf9",
   "metadata": {},
   "outputs": [
    {
     "data": {
      "text/plain": [
       "19"
      ]
     },
     "execution_count": 100,
     "metadata": {},
     "output_type": "execute_result"
    }
   ],
   "source": [
    "dfBk.duplicated().sum()"
   ]
  },
  {
   "cell_type": "code",
   "execution_count": 101,
   "id": "f7a07843-b9f5-416a-bb48-c02787d3f527",
   "metadata": {},
   "outputs": [
    {
     "data": {
      "text/html": [
       "<div>\n",
       "<style scoped>\n",
       "    .dataframe tbody tr th:only-of-type {\n",
       "        vertical-align: middle;\n",
       "    }\n",
       "\n",
       "    .dataframe tbody tr th {\n",
       "        vertical-align: top;\n",
       "    }\n",
       "\n",
       "    .dataframe thead th {\n",
       "        text-align: right;\n",
       "    }\n",
       "</style>\n",
       "<table border=\"1\" class=\"dataframe\">\n",
       "  <thead>\n",
       "    <tr style=\"text-align: right;\">\n",
       "      <th></th>\n",
       "      <th>EPS</th>\n",
       "      <th>Liquidity</th>\n",
       "      <th>Profitability</th>\n",
       "      <th>Productivity</th>\n",
       "      <th>Leverage Ratio</th>\n",
       "      <th>Asset Turnover</th>\n",
       "      <th>Operational Margin</th>\n",
       "      <th>Return on Equity</th>\n",
       "      <th>Market Book Ratio</th>\n",
       "      <th>Assets Growth</th>\n",
       "      <th>Sales Growth</th>\n",
       "      <th>Employee Growth</th>\n",
       "      <th>BK</th>\n",
       "    </tr>\n",
       "  </thead>\n",
       "  <tbody>\n",
       "    <tr>\n",
       "      <th>35566</th>\n",
       "      <td>4.57</td>\n",
       "      <td>0.04</td>\n",
       "      <td>0.18</td>\n",
       "      <td>0.12</td>\n",
       "      <td>0.79</td>\n",
       "      <td>0.51</td>\n",
       "      <td>0.24</td>\n",
       "      <td>0.09</td>\n",
       "      <td>22.82</td>\n",
       "      <td>0.020838</td>\n",
       "      <td>-0.033425</td>\n",
       "      <td>0.026115</td>\n",
       "      <td>0</td>\n",
       "    </tr>\n",
       "    <tr>\n",
       "      <th>35567</th>\n",
       "      <td>4.44</td>\n",
       "      <td>0.02</td>\n",
       "      <td>0.19</td>\n",
       "      <td>0.11</td>\n",
       "      <td>0.82</td>\n",
       "      <td>0.48</td>\n",
       "      <td>0.23</td>\n",
       "      <td>0.10</td>\n",
       "      <td>19.14</td>\n",
       "      <td>0.014645</td>\n",
       "      <td>-0.034895</td>\n",
       "      <td>0.008614</td>\n",
       "      <td>0</td>\n",
       "    </tr>\n",
       "    <tr>\n",
       "      <th>51482</th>\n",
       "      <td>2.67</td>\n",
       "      <td>-0.07</td>\n",
       "      <td>0.10</td>\n",
       "      <td>0.11</td>\n",
       "      <td>0.90</td>\n",
       "      <td>0.76</td>\n",
       "      <td>0.14</td>\n",
       "      <td>0.10</td>\n",
       "      <td>12.19</td>\n",
       "      <td>-0.060779</td>\n",
       "      <td>-0.268154</td>\n",
       "      <td>-0.344557</td>\n",
       "      <td>0</td>\n",
       "    </tr>\n",
       "    <tr>\n",
       "      <th>51483</th>\n",
       "      <td>3.16</td>\n",
       "      <td>-0.04</td>\n",
       "      <td>0.11</td>\n",
       "      <td>0.10</td>\n",
       "      <td>0.77</td>\n",
       "      <td>0.71</td>\n",
       "      <td>0.14</td>\n",
       "      <td>0.12</td>\n",
       "      <td>11.92</td>\n",
       "      <td>0.018161</td>\n",
       "      <td>-0.053691</td>\n",
       "      <td>1.315766</td>\n",
       "      <td>0</td>\n",
       "    </tr>\n",
       "    <tr>\n",
       "      <th>51484</th>\n",
       "      <td>3.37</td>\n",
       "      <td>-0.07</td>\n",
       "      <td>0.12</td>\n",
       "      <td>0.10</td>\n",
       "      <td>0.76</td>\n",
       "      <td>0.70</td>\n",
       "      <td>0.14</td>\n",
       "      <td>0.11</td>\n",
       "      <td>13.55</td>\n",
       "      <td>0.041565</td>\n",
       "      <td>0.033445</td>\n",
       "      <td>-0.010136</td>\n",
       "      <td>0</td>\n",
       "    </tr>\n",
       "    <tr>\n",
       "      <th>51485</th>\n",
       "      <td>3.66</td>\n",
       "      <td>-0.01</td>\n",
       "      <td>0.13</td>\n",
       "      <td>0.08</td>\n",
       "      <td>0.78</td>\n",
       "      <td>0.49</td>\n",
       "      <td>0.16</td>\n",
       "      <td>0.10</td>\n",
       "      <td>16.70</td>\n",
       "      <td>0.069080</td>\n",
       "      <td>-0.253067</td>\n",
       "      <td>-0.199961</td>\n",
       "      <td>0</td>\n",
       "    </tr>\n",
       "    <tr>\n",
       "      <th>51486</th>\n",
       "      <td>0.95</td>\n",
       "      <td>-0.05</td>\n",
       "      <td>0.07</td>\n",
       "      <td>0.06</td>\n",
       "      <td>2.07</td>\n",
       "      <td>0.42</td>\n",
       "      <td>0.13</td>\n",
       "      <td>0.06</td>\n",
       "      <td>29.37</td>\n",
       "      <td>0.540813</td>\n",
       "      <td>0.336263</td>\n",
       "      <td>-0.001932</td>\n",
       "      <td>0</td>\n",
       "    </tr>\n",
       "    <tr>\n",
       "      <th>51487</th>\n",
       "      <td>0.99</td>\n",
       "      <td>-0.05</td>\n",
       "      <td>0.07</td>\n",
       "      <td>0.09</td>\n",
       "      <td>1.33</td>\n",
       "      <td>0.70</td>\n",
       "      <td>0.13</td>\n",
       "      <td>0.05</td>\n",
       "      <td>43.74</td>\n",
       "      <td>-0.010286</td>\n",
       "      <td>0.639663</td>\n",
       "      <td>-0.077668</td>\n",
       "      <td>0</td>\n",
       "    </tr>\n",
       "    <tr>\n",
       "      <th>61231</th>\n",
       "      <td>4.44</td>\n",
       "      <td>0.04</td>\n",
       "      <td>0.22</td>\n",
       "      <td>0.12</td>\n",
       "      <td>0.66</td>\n",
       "      <td>0.63</td>\n",
       "      <td>0.19</td>\n",
       "      <td>0.09</td>\n",
       "      <td>19.18</td>\n",
       "      <td>-0.018581</td>\n",
       "      <td>-0.072410</td>\n",
       "      <td>0.006036</td>\n",
       "      <td>0</td>\n",
       "    </tr>\n",
       "    <tr>\n",
       "      <th>61232</th>\n",
       "      <td>2.27</td>\n",
       "      <td>0.06</td>\n",
       "      <td>0.23</td>\n",
       "      <td>0.12</td>\n",
       "      <td>0.65</td>\n",
       "      <td>0.61</td>\n",
       "      <td>0.20</td>\n",
       "      <td>0.11</td>\n",
       "      <td>31.20</td>\n",
       "      <td>0.019072</td>\n",
       "      <td>-0.019947</td>\n",
       "      <td>-0.002000</td>\n",
       "      <td>0</td>\n",
       "    </tr>\n",
       "    <tr>\n",
       "      <th>61233</th>\n",
       "      <td>2.43</td>\n",
       "      <td>0.06</td>\n",
       "      <td>0.24</td>\n",
       "      <td>0.11</td>\n",
       "      <td>0.65</td>\n",
       "      <td>0.62</td>\n",
       "      <td>0.18</td>\n",
       "      <td>0.11</td>\n",
       "      <td>31.36</td>\n",
       "      <td>0.024507</td>\n",
       "      <td>0.041137</td>\n",
       "      <td>-0.011623</td>\n",
       "      <td>0</td>\n",
       "    </tr>\n",
       "    <tr>\n",
       "      <th>61234</th>\n",
       "      <td>2.15</td>\n",
       "      <td>0.05</td>\n",
       "      <td>0.23</td>\n",
       "      <td>0.09</td>\n",
       "      <td>0.69</td>\n",
       "      <td>0.58</td>\n",
       "      <td>0.16</td>\n",
       "      <td>0.09</td>\n",
       "      <td>33.35</td>\n",
       "      <td>0.036285</td>\n",
       "      <td>-0.030649</td>\n",
       "      <td>0.002433</td>\n",
       "      <td>0</td>\n",
       "    </tr>\n",
       "    <tr>\n",
       "      <th>61235</th>\n",
       "      <td>2.14</td>\n",
       "      <td>0.05</td>\n",
       "      <td>0.24</td>\n",
       "      <td>0.09</td>\n",
       "      <td>0.73</td>\n",
       "      <td>0.58</td>\n",
       "      <td>0.16</td>\n",
       "      <td>0.09</td>\n",
       "      <td>33.26</td>\n",
       "      <td>-0.002466</td>\n",
       "      <td>0.005396</td>\n",
       "      <td>0.020227</td>\n",
       "      <td>0</td>\n",
       "    </tr>\n",
       "    <tr>\n",
       "      <th>61236</th>\n",
       "      <td>2.37</td>\n",
       "      <td>0.06</td>\n",
       "      <td>0.24</td>\n",
       "      <td>0.09</td>\n",
       "      <td>0.82</td>\n",
       "      <td>0.58</td>\n",
       "      <td>0.16</td>\n",
       "      <td>0.08</td>\n",
       "      <td>40.08</td>\n",
       "      <td>0.063709</td>\n",
       "      <td>0.058621</td>\n",
       "      <td>0.034496</td>\n",
       "      <td>0</td>\n",
       "    </tr>\n",
       "    <tr>\n",
       "      <th>61237</th>\n",
       "      <td>2.43</td>\n",
       "      <td>0.05</td>\n",
       "      <td>0.24</td>\n",
       "      <td>0.09</td>\n",
       "      <td>0.75</td>\n",
       "      <td>0.55</td>\n",
       "      <td>0.17</td>\n",
       "      <td>0.08</td>\n",
       "      <td>43.69</td>\n",
       "      <td>0.067080</td>\n",
       "      <td>0.018128</td>\n",
       "      <td>0.026830</td>\n",
       "      <td>0</td>\n",
       "    </tr>\n",
       "    <tr>\n",
       "      <th>61238</th>\n",
       "      <td>2.60</td>\n",
       "      <td>0.06</td>\n",
       "      <td>0.24</td>\n",
       "      <td>0.10</td>\n",
       "      <td>0.69</td>\n",
       "      <td>0.57</td>\n",
       "      <td>0.17</td>\n",
       "      <td>0.08</td>\n",
       "      <td>44.19</td>\n",
       "      <td>0.046520</td>\n",
       "      <td>0.072196</td>\n",
       "      <td>-0.010078</td>\n",
       "      <td>0</td>\n",
       "    </tr>\n",
       "    <tr>\n",
       "      <th>73566</th>\n",
       "      <td>4.41</td>\n",
       "      <td>-0.04</td>\n",
       "      <td>0.10</td>\n",
       "      <td>0.11</td>\n",
       "      <td>1.18</td>\n",
       "      <td>0.29</td>\n",
       "      <td>0.36</td>\n",
       "      <td>0.12</td>\n",
       "      <td>99.79</td>\n",
       "      <td>0.045881</td>\n",
       "      <td>0.059914</td>\n",
       "      <td>-0.001788</td>\n",
       "      <td>0</td>\n",
       "    </tr>\n",
       "    <tr>\n",
       "      <th>73567</th>\n",
       "      <td>4.69</td>\n",
       "      <td>-0.02</td>\n",
       "      <td>0.11</td>\n",
       "      <td>0.11</td>\n",
       "      <td>1.11</td>\n",
       "      <td>0.31</td>\n",
       "      <td>0.35</td>\n",
       "      <td>0.11</td>\n",
       "      <td>114.01</td>\n",
       "      <td>0.009877</td>\n",
       "      <td>0.064385</td>\n",
       "      <td>-0.016834</td>\n",
       "      <td>0</td>\n",
       "    </tr>\n",
       "    <tr>\n",
       "      <th>73570</th>\n",
       "      <td>2.28</td>\n",
       "      <td>0.00</td>\n",
       "      <td>0.12</td>\n",
       "      <td>0.10</td>\n",
       "      <td>1.04</td>\n",
       "      <td>0.33</td>\n",
       "      <td>0.29</td>\n",
       "      <td>0.08</td>\n",
       "      <td>265.59</td>\n",
       "      <td>0.032411</td>\n",
       "      <td>0.072050</td>\n",
       "      <td>-0.011426</td>\n",
       "      <td>0</td>\n",
       "    </tr>\n",
       "  </tbody>\n",
       "</table>\n",
       "</div>"
      ],
      "text/plain": [
       "        EPS  Liquidity  Profitability  Productivity  Leverage Ratio  \\\n",
       "35566  4.57       0.04           0.18          0.12            0.79   \n",
       "35567  4.44       0.02           0.19          0.11            0.82   \n",
       "51482  2.67      -0.07           0.10          0.11            0.90   \n",
       "51483  3.16      -0.04           0.11          0.10            0.77   \n",
       "51484  3.37      -0.07           0.12          0.10            0.76   \n",
       "51485  3.66      -0.01           0.13          0.08            0.78   \n",
       "51486  0.95      -0.05           0.07          0.06            2.07   \n",
       "51487  0.99      -0.05           0.07          0.09            1.33   \n",
       "61231  4.44       0.04           0.22          0.12            0.66   \n",
       "61232  2.27       0.06           0.23          0.12            0.65   \n",
       "61233  2.43       0.06           0.24          0.11            0.65   \n",
       "61234  2.15       0.05           0.23          0.09            0.69   \n",
       "61235  2.14       0.05           0.24          0.09            0.73   \n",
       "61236  2.37       0.06           0.24          0.09            0.82   \n",
       "61237  2.43       0.05           0.24          0.09            0.75   \n",
       "61238  2.60       0.06           0.24          0.10            0.69   \n",
       "73566  4.41      -0.04           0.10          0.11            1.18   \n",
       "73567  4.69      -0.02           0.11          0.11            1.11   \n",
       "73570  2.28       0.00           0.12          0.10            1.04   \n",
       "\n",
       "       Asset Turnover  Operational Margin  Return on Equity  \\\n",
       "35566            0.51                0.24              0.09   \n",
       "35567            0.48                0.23              0.10   \n",
       "51482            0.76                0.14              0.10   \n",
       "51483            0.71                0.14              0.12   \n",
       "51484            0.70                0.14              0.11   \n",
       "51485            0.49                0.16              0.10   \n",
       "51486            0.42                0.13              0.06   \n",
       "51487            0.70                0.13              0.05   \n",
       "61231            0.63                0.19              0.09   \n",
       "61232            0.61                0.20              0.11   \n",
       "61233            0.62                0.18              0.11   \n",
       "61234            0.58                0.16              0.09   \n",
       "61235            0.58                0.16              0.09   \n",
       "61236            0.58                0.16              0.08   \n",
       "61237            0.55                0.17              0.08   \n",
       "61238            0.57                0.17              0.08   \n",
       "73566            0.29                0.36              0.12   \n",
       "73567            0.31                0.35              0.11   \n",
       "73570            0.33                0.29              0.08   \n",
       "\n",
       "       Market Book Ratio  Assets Growth  Sales Growth  Employee Growth  BK  \n",
       "35566              22.82       0.020838     -0.033425         0.026115   0  \n",
       "35567              19.14       0.014645     -0.034895         0.008614   0  \n",
       "51482              12.19      -0.060779     -0.268154        -0.344557   0  \n",
       "51483              11.92       0.018161     -0.053691         1.315766   0  \n",
       "51484              13.55       0.041565      0.033445        -0.010136   0  \n",
       "51485              16.70       0.069080     -0.253067        -0.199961   0  \n",
       "51486              29.37       0.540813      0.336263        -0.001932   0  \n",
       "51487              43.74      -0.010286      0.639663        -0.077668   0  \n",
       "61231              19.18      -0.018581     -0.072410         0.006036   0  \n",
       "61232              31.20       0.019072     -0.019947        -0.002000   0  \n",
       "61233              31.36       0.024507      0.041137        -0.011623   0  \n",
       "61234              33.35       0.036285     -0.030649         0.002433   0  \n",
       "61235              33.26      -0.002466      0.005396         0.020227   0  \n",
       "61236              40.08       0.063709      0.058621         0.034496   0  \n",
       "61237              43.69       0.067080      0.018128         0.026830   0  \n",
       "61238              44.19       0.046520      0.072196        -0.010078   0  \n",
       "73566              99.79       0.045881      0.059914        -0.001788   0  \n",
       "73567             114.01       0.009877      0.064385        -0.016834   0  \n",
       "73570             265.59       0.032411      0.072050        -0.011426   0  "
      ]
     },
     "execution_count": 101,
     "metadata": {},
     "output_type": "execute_result"
    }
   ],
   "source": [
    "dfBk[dfBk.duplicated()]"
   ]
  },
  {
   "cell_type": "code",
   "execution_count": 102,
   "id": "90faf5d3-6618-483b-a9fe-194053c49513",
   "metadata": {},
   "outputs": [],
   "source": [
    "dfBk.drop_duplicates(inplace=True)"
   ]
  },
  {
   "cell_type": "code",
   "execution_count": 103,
   "id": "91f1ac5a-d324-4332-8912-ea4ef16ca12c",
   "metadata": {},
   "outputs": [
    {
     "data": {
      "text/plain": [
       "BK\n",
       "0    85400\n",
       "1      558\n",
       "Name: count, dtype: int64"
      ]
     },
     "execution_count": 103,
     "metadata": {},
     "output_type": "execute_result"
    }
   ],
   "source": [
    "dfBk['BK'].value_counts()"
   ]
  },
  {
   "cell_type": "markdown",
   "id": "c6e771c7-807e-4742-9159-e84c01cd45ed",
   "metadata": {},
   "source": [
    "#### 1.6 Checking for Outliers"
   ]
  },
  {
   "cell_type": "code",
   "execution_count": 104,
   "id": "1f56e0bf-5977-4eba-a03f-76c7345c6f29",
   "metadata": {},
   "outputs": [
    {
     "data": {
      "text/plain": [
       "<Axes: >"
      ]
     },
     "execution_count": 104,
     "metadata": {},
     "output_type": "execute_result"
    },
    {
     "data": {
      "image/png": "[encoded data removed]",
      "text/plain": [
       "<Figure size 640x480 with 1 Axes>"
      ]
     },
     "metadata": {},
     "output_type": "display_data"
    }
   ],
   "source": [
    "sns.boxplot(data=filteredDf1[['EPS']])"
   ]
  },
  {
   "cell_type": "code",
   "execution_count": 105,
   "id": "04c03515-fabe-4af7-9192-a13d2b4f7bc7",
   "metadata": {},
   "outputs": [
    {
     "data": {
      "image/png": "[encoded data removed]",
      "text/plain": [
       "<Figure size 800x700 with 1 Axes>"
      ]
     },
     "metadata": {},
     "output_type": "display_data"
    }
   ],
   "source": [
    "plt.figure(figsize=(8,7))\n",
    "sns.boxplot(data=filteredDf1)\n",
    "plt.xticks(rotation=90)\n",
    "plt.title('Box plot to check outliers')\n",
    "plt.show()"
   ]
  },
  {
   "cell_type": "code",
   "execution_count": 106,
   "id": "0ac17eee-138d-48a4-b5bb-454bfcb03215",
   "metadata": {},
   "outputs": [
    {
     "name": "stdout",
     "output_type": "stream",
     "text": [
      "Number of outliers in column 'EPS': 7488\n",
      "Number of outliers in column 'Liquidity': 4255\n",
      "Number of outliers in column 'Profitability': 13321\n",
      "Number of outliers in column 'Productivity': 12244\n",
      "Number of outliers in column 'Leverage Ratio': 9570\n",
      "Number of outliers in column 'Asset Turnover': 3486\n",
      "Number of outliers in column 'Operational Margin': 15892\n",
      "Number of outliers in column 'Return on Equity': 12211\n",
      "Number of outliers in column 'Market Book Ratio': 14599\n",
      "Number of outliers in column 'Assets Growth': 11883\n",
      "Number of outliers in column 'Sales Growth': 12359\n",
      "Number of outliers in column 'Employee Growth': 12384\n"
     ]
    }
   ],
   "source": [
    "# Function to calculate outliers using IQR method\n",
    "def count_outliers_iqr(series):\n",
    "    Q1 = series.quantile(0.25)\n",
    "    Q3 = series.quantile(0.75)\n",
    "    IQR = Q3 - Q1\n",
    "    lower_bound = Q1 - 1.5 * IQR\n",
    "    upper_bound = Q3 + 1.5 * IQR\n",
    "    return series[(series < lower_bound) | (series > upper_bound)].count()\n",
    "\n",
    "# Count outliers for each column using the IQR method\n",
    "outliers_counts = dfBk.drop(columns='BK').apply(count_outliers_iqr)\n",
    "\n",
    "# Print the number of outliers for each column\n",
    "for column, count in outliers_counts.items():\n",
    "    print(f\"Number of outliers in column '{column}': {count}\")"
   ]
  },
  {
   "cell_type": "code",
   "execution_count": 107,
   "id": "945e00ac-3d12-4e70-a886-6247ffc1c70c",
   "metadata": {},
   "outputs": [],
   "source": [
    "def removeOutlier(columnName):\n",
    "    Q1= dfBk[columnName].quantile(0.25)\n",
    "    Q3= dfBk[columnName].quantile(0.75)\n",
    "    IQR= Q3-Q1\n",
    "    nonOutlier = dfBk[~((dfBk[columnName]>(Q3+5*IQR)) | (dfBk[columnName]<(Q1-5*IQR)))]\n",
    "    return nonOutlier"
   ]
  },
  {
   "cell_type": "markdown",
   "id": "2a136026-798f-44ad-af4f-912962342529",
   "metadata": {},
   "source": [
    "It's not a good option to remove the outliers because it removes all the 1 [Bankrupt Values] form the target variables.\n",
    "The reason why it might be happening is maybe because due to the extreme conditions of the person/company they have gone bankrupt so it's not a good option to remove them."
   ]
  },
  {
   "cell_type": "markdown",
   "id": "ec9fa853-2903-48a0-b65e-85c6742bc2da",
   "metadata": {},
   "source": [
    "#### 1.7 Train Test Split"
   ]
  },
  {
   "cell_type": "code",
   "execution_count": 108,
   "id": "180fa68b-73e4-49a0-a50f-79de817a66b8",
   "metadata": {},
   "outputs": [
    {
     "data": {
      "text/plain": [
       "Index(['EPS', 'Liquidity', 'Profitability', 'Productivity', 'Leverage Ratio',\n",
       "       'Asset Turnover', 'Operational Margin', 'Return on Equity',\n",
       "       'Market Book Ratio', 'Assets Growth', 'Sales Growth', 'Employee Growth',\n",
       "       'BK'],\n",
       "      dtype='object')"
      ]
     },
     "execution_count": 108,
     "metadata": {},
     "output_type": "execute_result"
    }
   ],
   "source": [
    "dfBk.columns"
   ]
  },
  {
   "cell_type": "code",
   "execution_count": 109,
   "id": "621734cf-a7b7-481d-b39d-003fed97e051",
   "metadata": {},
   "outputs": [],
   "source": [
    "X_features = ['EPS', 'Liquidity', 'Profitability', 'Productivity', 'Leverage Ratio',\n",
    "       'Asset Turnover', 'Operational Margin', 'Return on Equity',\n",
    "       'Market Book Ratio', 'Assets Growth', 'Sales Growth', 'Employee Growth']\n",
    "y_features = ['BK']"
   ]
  },
  {
   "cell_type": "code",
   "execution_count": 110,
   "id": "1e94d8fd-6212-4b9d-9fd2-0e8bc7c9d058",
   "metadata": {},
   "outputs": [],
   "source": [
    "#for i in X_features:\n",
    "#    dfBk = removeOutlier(i)"
   ]
  },
  {
   "cell_type": "code",
   "execution_count": 111,
   "id": "e566b1b3-f0ca-47cb-8869-ec31a46c5c24",
   "metadata": {},
   "outputs": [
    {
     "name": "stdout",
     "output_type": "stream",
     "text": [
      "Number of outliers in column 'EPS': 7488\n",
      "Number of outliers in column 'Liquidity': 4255\n",
      "Number of outliers in column 'Profitability': 13321\n",
      "Number of outliers in column 'Productivity': 12244\n",
      "Number of outliers in column 'Leverage Ratio': 9570\n",
      "Number of outliers in column 'Asset Turnover': 3486\n",
      "Number of outliers in column 'Operational Margin': 15892\n",
      "Number of outliers in column 'Return on Equity': 12211\n",
      "Number of outliers in column 'Market Book Ratio': 14599\n",
      "Number of outliers in column 'Assets Growth': 11883\n",
      "Number of outliers in column 'Sales Growth': 12359\n",
      "Number of outliers in column 'Employee Growth': 12384\n"
     ]
    }
   ],
   "source": [
    "# Function to calculate outliers using IQR method\n",
    "def count_outliers_iqr(series):\n",
    "    Q1 = series.quantile(0.25)\n",
    "    Q3 = series.quantile(0.75)\n",
    "    IQR = Q3 - Q1\n",
    "    lower_bound = Q1 - 1.5 * IQR\n",
    "    upper_bound = Q3 + 1.5 * IQR\n",
    "    return series[(series < lower_bound) | (series > upper_bound)].count()\n",
    "\n",
    "# Count outliers for each column using the IQR method\n",
    "outliers_counts = dfBk.drop(columns='BK').apply(count_outliers_iqr)\n",
    "\n",
    "# Print the number of outliers for each column\n",
    "for column, count in outliers_counts.items():\n",
    "    print(f\"Number of outliers in column '{column}': {count}\")"
   ]
  },
  {
   "cell_type": "code",
   "execution_count": 112,
   "id": "673abdcf-53e1-4408-b765-3e7fab6a3968",
   "metadata": {},
   "outputs": [
    {
     "data": {
      "text/plain": [
       "BK\n",
       "0    85400\n",
       "1      558\n",
       "Name: count, dtype: int64"
      ]
     },
     "execution_count": 112,
     "metadata": {},
     "output_type": "execute_result"
    }
   ],
   "source": [
    "dfBk['BK'].value_counts()"
   ]
  },
  {
   "cell_type": "code",
   "execution_count": 113,
   "id": "74f561b7-27c8-45d1-a2ae-5ea4c9df83c3",
   "metadata": {},
   "outputs": [],
   "source": [
    "#dfBk.drop(dfBk[(dfBk['Return on Equity']< -1500) | (dfBk['Return on Equity']> 10000)].index,inplace=True)"
   ]
  },
  {
   "cell_type": "code",
   "execution_count": 114,
   "id": "fb4d3f9a-d190-4b25-ae3a-c82c4c219fc6",
   "metadata": {},
   "outputs": [
    {
     "data": {
      "image/png": "[encoded data removed]",
      "text/plain": [
       "<Figure size 640x480 with 1 Axes>"
      ]
     },
     "metadata": {},
     "output_type": "display_data"
    },
    {
     "data": {
      "image/png": "[encoded data removed]",
      "text/plain": [
       "<Figure size 640x480 with 1 Axes>"
      ]
     },
     "metadata": {},
     "output_type": "display_data"
    },
    {
     "data": {
      "image/png": "[encoded data removed]",
      "text/plain": [
       "<Figure size 640x480 with 1 Axes>"
      ]
     },
     "metadata": {},
     "output_type": "display_data"
    },
    {
     "data": {
      "image/png": "[encoded data removed]",
      "text/plain": [
       "<Figure size 640x480 with 1 Axes>"
      ]
     },
     "metadata": {},
     "output_type": "display_data"
    },
    {
     "data": {
      "image/png": "[encoded data removed]",
      "text/plain": [
       "<Figure size 640x480 with 1 Axes>"
      ]
     },
     "metadata": {},
     "output_type": "display_data"
    },
    {
     "data": {
      "image/png": "[encoded data removed]",
      "text/plain": [
       "<Figure size 640x480 with 1 Axes>"
      ]
     },
     "metadata": {},
     "output_type": "display_data"
    },
    {
     "data": {
      "image/png": "[encoded data removed]",
      "text/plain": [
       "<Figure size 640x480 with 1 Axes>"
      ]
     },
     "metadata": {},
     "output_type": "display_data"
    },
    {
     "data": {
      "image/png": "[encoded data removed]",
      "text/plain": [
       "<Figure size 640x480 with 1 Axes>"
      ]
     },
     "metadata": {},
     "output_type": "display_data"
    },
    {
     "data": {
      "image/png": "[encoded data removed]",
      "text/plain": [
       "<Figure size 640x480 with 1 Axes>"
      ]
     },
     "metadata": {},
     "output_type": "display_data"
    },
    {
     "data": {
      "image/png": "[encoded data removed]",
      "text/plain": [
       "<Figure size 640x480 with 1 Axes>"
      ]
     },
     "metadata": {},
     "output_type": "display_data"
    },
    {
     "data": {
      "image/png": "[encoded data removed]",
      "text/plain": [
       "<Figure size 640x480 with 1 Axes>"
      ]
     },
     "metadata": {},
     "output_type": "display_data"
    },
    {
     "data": {
      "image/png": "[encoded data removed]",
      "text/plain": [
       "<Figure size 640x480 with 1 Axes>"
      ]
     },
     "metadata": {},
     "output_type": "display_data"
    },
    {
     "data": {
      "image/png": "[encoded data removed]",
      "text/plain": [
       "<Figure size 640x480 with 1 Axes>"
      ]
     },
     "metadata": {},
     "output_type": "display_data"
    }
   ],
   "source": [
    "for column in dfBk.columns:\n",
    "    plt.figure()\n",
    "    plt.boxplot(dfBk[column].dropna(), vert=True, patch_artist=True,\n",
    "                boxprops=dict(facecolor='lightblue', color='blue'),\n",
    "                medianprops=dict(color='red'))\n",
    "    plt.title(f'Box Plot of {column}', fontsize=14)\n",
    "    plt.xlabel(column, fontsize=12)\n",
    "    plt.ylabel('Values', fontsize=12)\n",
    "    plt.grid()\n",
    "    plt.show()"
   ]
  },
  {
   "cell_type": "code",
   "execution_count": 115,
   "id": "a810819c-a522-4a32-b539-b016d64c2fb7",
   "metadata": {},
   "outputs": [],
   "source": [
    "from imblearn.combine import SMOTETomek\n",
    "from collections import Counter"
   ]
  },
  {
   "cell_type": "code",
   "execution_count": 116,
   "id": "070113e9-9549-4bcd-bfa3-00180876cd79",
   "metadata": {},
   "outputs": [],
   "source": [
    "X = dfBk.drop('BK',axis=1)\n",
    "y = dfBk['BK']"
   ]
  },
  {
   "cell_type": "code",
   "execution_count": 117,
   "id": "27425ef3-42c4-4dc8-b2d7-606da9a28f80",
   "metadata": {},
   "outputs": [
    {
     "data": {
      "text/html": [
       "<div>\n",
       "<style scoped>\n",
       "    .dataframe tbody tr th:only-of-type {\n",
       "        vertical-align: middle;\n",
       "    }\n",
       "\n",
       "    .dataframe tbody tr th {\n",
       "        vertical-align: top;\n",
       "    }\n",
       "\n",
       "    .dataframe thead th {\n",
       "        text-align: right;\n",
       "    }\n",
       "</style>\n",
       "<table border=\"1\" class=\"dataframe\">\n",
       "  <thead>\n",
       "    <tr style=\"text-align: right;\">\n",
       "      <th></th>\n",
       "      <th>EPS</th>\n",
       "      <th>Liquidity</th>\n",
       "      <th>Profitability</th>\n",
       "      <th>Productivity</th>\n",
       "      <th>Leverage Ratio</th>\n",
       "      <th>Asset Turnover</th>\n",
       "      <th>Operational Margin</th>\n",
       "      <th>Return on Equity</th>\n",
       "      <th>Market Book Ratio</th>\n",
       "      <th>Assets Growth</th>\n",
       "      <th>Sales Growth</th>\n",
       "      <th>Employee Growth</th>\n",
       "    </tr>\n",
       "  </thead>\n",
       "  <tbody>\n",
       "    <tr>\n",
       "      <th>1</th>\n",
       "      <td>1.410000</td>\n",
       "      <td>0.360000</td>\n",
       "      <td>0.190000</td>\n",
       "      <td>0.120000</td>\n",
       "      <td>1.310000</td>\n",
       "      <td>1.590000</td>\n",
       "      <td>0.070000</td>\n",
       "      <td>0.130000</td>\n",
       "      <td>2.410000</td>\n",
       "      <td>0.126319</td>\n",
       "      <td>0.014278</td>\n",
       "      <td>0.040179</td>\n",
       "    </tr>\n",
       "    <tr>\n",
       "      <th>2</th>\n",
       "      <td>0.310000</td>\n",
       "      <td>0.320000</td>\n",
       "      <td>0.130000</td>\n",
       "      <td>0.080000</td>\n",
       "      <td>1.030000</td>\n",
       "      <td>1.550000</td>\n",
       "      <td>0.050000</td>\n",
       "      <td>0.040000</td>\n",
       "      <td>2.560000</td>\n",
       "      <td>0.368077</td>\n",
       "      <td>0.327909</td>\n",
       "      <td>0.566524</td>\n",
       "    </tr>\n",
       "    <tr>\n",
       "      <th>3</th>\n",
       "      <td>0.710000</td>\n",
       "      <td>0.280000</td>\n",
       "      <td>0.140000</td>\n",
       "      <td>0.080000</td>\n",
       "      <td>0.800000</td>\n",
       "      <td>1.390000</td>\n",
       "      <td>0.060000</td>\n",
       "      <td>0.050000</td>\n",
       "      <td>5.280000</td>\n",
       "      <td>-0.020809</td>\n",
       "      <td>-0.118904</td>\n",
       "      <td>-0.095890</td>\n",
       "    </tr>\n",
       "    <tr>\n",
       "      <th>4</th>\n",
       "      <td>0.750000</td>\n",
       "      <td>0.410000</td>\n",
       "      <td>0.130000</td>\n",
       "      <td>0.080000</td>\n",
       "      <td>0.200000</td>\n",
       "      <td>1.300000</td>\n",
       "      <td>0.060000</td>\n",
       "      <td>0.040000</td>\n",
       "      <td>8.680000</td>\n",
       "      <td>0.233089</td>\n",
       "      <td>0.146807</td>\n",
       "      <td>0.053030</td>\n",
       "    </tr>\n",
       "    <tr>\n",
       "      <th>5</th>\n",
       "      <td>1.500000</td>\n",
       "      <td>0.370000</td>\n",
       "      <td>0.160000</td>\n",
       "      <td>0.110000</td>\n",
       "      <td>0.340000</td>\n",
       "      <td>1.410000</td>\n",
       "      <td>0.080000</td>\n",
       "      <td>0.080000</td>\n",
       "      <td>7.820000</td>\n",
       "      <td>0.132458</td>\n",
       "      <td>0.231681</td>\n",
       "      <td>0.076978</td>\n",
       "    </tr>\n",
       "    <tr>\n",
       "      <th>...</th>\n",
       "      <td>...</td>\n",
       "      <td>...</td>\n",
       "      <td>...</td>\n",
       "      <td>...</td>\n",
       "      <td>...</td>\n",
       "      <td>...</td>\n",
       "      <td>...</td>\n",
       "      <td>...</td>\n",
       "      <td>...</td>\n",
       "      <td>...</td>\n",
       "      <td>...</td>\n",
       "      <td>...</td>\n",
       "    </tr>\n",
       "    <tr>\n",
       "      <th>92867</th>\n",
       "      <td>-1.488171</td>\n",
       "      <td>-0.015494</td>\n",
       "      <td>-0.758859</td>\n",
       "      <td>-0.056905</td>\n",
       "      <td>-1042.104918</td>\n",
       "      <td>0.174115</td>\n",
       "      <td>-0.326823</td>\n",
       "      <td>-6.614095</td>\n",
       "      <td>-1.846719</td>\n",
       "      <td>-0.073287</td>\n",
       "      <td>-0.557483</td>\n",
       "      <td>-0.076923</td>\n",
       "    </tr>\n",
       "    <tr>\n",
       "      <th>92868</th>\n",
       "      <td>-1.807630</td>\n",
       "      <td>0.093838</td>\n",
       "      <td>-1.204734</td>\n",
       "      <td>-0.121122</td>\n",
       "      <td>-4.530214</td>\n",
       "      <td>0.215844</td>\n",
       "      <td>-0.561155</td>\n",
       "      <td>-4.519074</td>\n",
       "      <td>-2.474549</td>\n",
       "      <td>-0.201835</td>\n",
       "      <td>-0.010544</td>\n",
       "      <td>-0.208333</td>\n",
       "    </tr>\n",
       "    <tr>\n",
       "      <th>92869</th>\n",
       "      <td>-0.015660</td>\n",
       "      <td>0.039260</td>\n",
       "      <td>0.000000</td>\n",
       "      <td>-0.082429</td>\n",
       "      <td>0.744907</td>\n",
       "      <td>0.254186</td>\n",
       "      <td>-0.324286</td>\n",
       "      <td>-0.569448</td>\n",
       "      <td>3274.505633</td>\n",
       "      <td>-0.168001</td>\n",
       "      <td>-0.020206</td>\n",
       "      <td>-0.105263</td>\n",
       "    </tr>\n",
       "    <tr>\n",
       "      <th>92870</th>\n",
       "      <td>-0.133054</td>\n",
       "      <td>0.053678</td>\n",
       "      <td>-0.029471</td>\n",
       "      <td>0.000998</td>\n",
       "      <td>0.574570</td>\n",
       "      <td>0.195683</td>\n",
       "      <td>0.005101</td>\n",
       "      <td>-0.085842</td>\n",
       "      <td>36.474842</td>\n",
       "      <td>0.076936</td>\n",
       "      <td>-0.170928</td>\n",
       "      <td>-0.058824</td>\n",
       "    </tr>\n",
       "    <tr>\n",
       "      <th>92871</th>\n",
       "      <td>-0.648028</td>\n",
       "      <td>-0.036524</td>\n",
       "      <td>-0.219774</td>\n",
       "      <td>-0.144842</td>\n",
       "      <td>0.693342</td>\n",
       "      <td>0.222476</td>\n",
       "      <td>-0.651048</td>\n",
       "      <td>-0.498483</td>\n",
       "      <td>55.624410</td>\n",
       "      <td>-0.063630</td>\n",
       "      <td>0.064574</td>\n",
       "      <td>0.062500</td>\n",
       "    </tr>\n",
       "  </tbody>\n",
       "</table>\n",
       "<p>85958 rows × 12 columns</p>\n",
       "</div>"
      ],
      "text/plain": [
       "            EPS  Liquidity  Profitability  Productivity  Leverage Ratio  \\\n",
       "1      1.410000   0.360000       0.190000      0.120000        1.310000   \n",
       "2      0.310000   0.320000       0.130000      0.080000        1.030000   \n",
       "3      0.710000   0.280000       0.140000      0.080000        0.800000   \n",
       "4      0.750000   0.410000       0.130000      0.080000        0.200000   \n",
       "5      1.500000   0.370000       0.160000      0.110000        0.340000   \n",
       "...         ...        ...            ...           ...             ...   \n",
       "92867 -1.488171  -0.015494      -0.758859     -0.056905    -1042.104918   \n",
       "92868 -1.807630   0.093838      -1.204734     -0.121122       -4.530214   \n",
       "92869 -0.015660   0.039260       0.000000     -0.082429        0.744907   \n",
       "92870 -0.133054   0.053678      -0.029471      0.000998        0.574570   \n",
       "92871 -0.648028  -0.036524      -0.219774     -0.144842        0.693342   \n",
       "\n",
       "       Asset Turnover  Operational Margin  Return on Equity  \\\n",
       "1            1.590000            0.070000          0.130000   \n",
       "2            1.550000            0.050000          0.040000   \n",
       "3            1.390000            0.060000          0.050000   \n",
       "4            1.300000            0.060000          0.040000   \n",
       "5            1.410000            0.080000          0.080000   \n",
       "...               ...                 ...               ...   \n",
       "92867        0.174115           -0.326823         -6.614095   \n",
       "92868        0.215844           -0.561155         -4.519074   \n",
       "92869        0.254186           -0.324286         -0.569448   \n",
       "92870        0.195683            0.005101         -0.085842   \n",
       "92871        0.222476           -0.651048         -0.498483   \n",
       "\n",
       "       Market Book Ratio  Assets Growth  Sales Growth  Employee Growth  \n",
       "1               2.410000       0.126319      0.014278         0.040179  \n",
       "2               2.560000       0.368077      0.327909         0.566524  \n",
       "3               5.280000      -0.020809     -0.118904        -0.095890  \n",
       "4               8.680000       0.233089      0.146807         0.053030  \n",
       "5               7.820000       0.132458      0.231681         0.076978  \n",
       "...                  ...            ...           ...              ...  \n",
       "92867          -1.846719      -0.073287     -0.557483        -0.076923  \n",
       "92868          -2.474549      -0.201835     -0.010544        -0.208333  \n",
       "92869        3274.505633      -0.168001     -0.020206        -0.105263  \n",
       "92870          36.474842       0.076936     -0.170928        -0.058824  \n",
       "92871          55.624410      -0.063630      0.064574         0.062500  \n",
       "\n",
       "[85958 rows x 12 columns]"
      ]
     },
     "execution_count": 117,
     "metadata": {},
     "output_type": "execute_result"
    }
   ],
   "source": [
    "X"
   ]
  },
  {
   "cell_type": "code",
   "execution_count": 118,
   "id": "02494773-c467-4fa7-b454-a667ac9a2564",
   "metadata": {},
   "outputs": [
    {
     "data": {
      "text/plain": [
       "1        0\n",
       "2        0\n",
       "3        0\n",
       "4        0\n",
       "5        0\n",
       "        ..\n",
       "92867    0\n",
       "92868    0\n",
       "92869    0\n",
       "92870    0\n",
       "92871    1\n",
       "Name: BK, Length: 85958, dtype: int64"
      ]
     },
     "execution_count": 118,
     "metadata": {},
     "output_type": "execute_result"
    }
   ],
   "source": [
    "y"
   ]
  },
  {
   "cell_type": "code",
   "execution_count": 119,
   "id": "1ff2b0fe-a1af-4d25-898e-5c01b852ac70",
   "metadata": {},
   "outputs": [
    {
     "name": "stdout",
     "output_type": "stream",
     "text": [
      "(85958, 12) (85958,)\n",
      "Counter({0: 85400, 1: 558})\n"
     ]
    }
   ],
   "source": [
    "print(X.shape, y.shape)\n",
    "print(Counter(y))"
   ]
  },
  {
   "cell_type": "code",
   "execution_count": 120,
   "id": "1cc92f04-4f5b-4c8c-9a24-a93ae48235ad",
   "metadata": {},
   "outputs": [
    {
     "data": {
      "text/plain": [
       "EPS                   0\n",
       "Liquidity             0\n",
       "Profitability         0\n",
       "Productivity          0\n",
       "Leverage Ratio        0\n",
       "Asset Turnover        0\n",
       "Operational Margin    0\n",
       "Return on Equity      0\n",
       "Market Book Ratio     0\n",
       "Assets Growth         0\n",
       "Sales Growth          0\n",
       "Employee Growth       0\n",
       "BK                    0\n",
       "dtype: int64"
      ]
     },
     "execution_count": 120,
     "metadata": {},
     "output_type": "execute_result"
    }
   ],
   "source": [
    "dfBk.isna().sum()"
   ]
  },
  {
   "cell_type": "markdown",
   "id": "7a99b90c-69d2-4820-8300-edc27adebe1b",
   "metadata": {},
   "source": [
    "#### 1.8 Handling imbalance data using SOMTETomek"
   ]
  },
  {
   "cell_type": "code",
   "execution_count": 121,
   "id": "cbb75d2b-ee65-435b-b232-871893d57e48",
   "metadata": {},
   "outputs": [],
   "source": [
    "smoteTomek = SMOTETomek(random_state=42)\n",
    "X_smotek, y_smotek = smoteTomek.fit_resample(X, y)"
   ]
  },
  {
   "cell_type": "code",
   "execution_count": 123,
   "id": "875b5f55-0c77-44a6-9d62-2c4d50dcd15a",
   "metadata": {},
   "outputs": [
    {
     "name": "stdout",
     "output_type": "stream",
     "text": [
      "(170270, 12) (170270,)\n",
      "Counter({0: 85135, 1: 85135})\n"
     ]
    }
   ],
   "source": [
    "print(X_smotek.shape, y_smotek.shape)\n",
    "print(Counter(y_smotek))"
   ]
  },
  {
   "cell_type": "markdown",
   "id": "4a15faac-d5a0-4224-bf78-e603fe041a41",
   "metadata": {},
   "source": [
    "### 2. Two methods / Types of models"
   ]
  },
  {
   "cell_type": "code",
   "execution_count": 124,
   "id": "ee056b49-671d-4117-9eb3-f048c14e96c2",
   "metadata": {},
   "outputs": [],
   "source": [
    "X_train, X_test, y_train, y_test = train_test_split(X_smotek, y_smotek, test_size=0.2, random_state=101)"
   ]
  },
  {
   "cell_type": "code",
   "execution_count": 126,
   "id": "454a7200-ec41-4bb0-8bbf-126a83a032c9",
   "metadata": {},
   "outputs": [],
   "source": [
    "from sklearn.preprocessing import StandardScaler"
   ]
  },
  {
   "cell_type": "code",
   "execution_count": 127,
   "id": "510e3cee-02ab-4d98-ac11-070b2ad5fb62",
   "metadata": {},
   "outputs": [],
   "source": [
    "scaler = StandardScaler()\n",
    "X_train_scaled = scaler.fit_transform(X_train)\n",
    "X_test_scaled = scaler.transform(X_test)"
   ]
  },
  {
   "cell_type": "markdown",
   "id": "d0019124-9bb0-42c1-934b-3725d84d1068",
   "metadata": {},
   "source": [
    "#### 2.1 SVM"
   ]
  },
  {
   "cell_type": "code",
   "execution_count": 128,
   "id": "b95867ad-7a0d-459c-b376-3c6d19532646",
   "metadata": {},
   "outputs": [
    {
     "data": {
      "text/html": [
       "<style>#sk-container-id-1 {color: black;background-color: white;}#sk-container-id-1 pre{padding: 0;}#sk-container-id-1 div.sk-toggleable {background-color: white;}#sk-container-id-1 label.sk-toggleable__label {cursor: pointer;display: block;width: 100%;margin-bottom: 0;padding: 0.3em;box-sizing: border-box;text-align: center;}#sk-container-id-1 label.sk-toggleable__label-arrow:before {content: \"▸\";float: left;margin-right: 0.25em;color: #696969;}#sk-container-id-1 label.sk-toggleable__label-arrow:hover:before {color: black;}#sk-container-id-1 div.sk-estimator:hover label.sk-toggleable__label-arrow:before {color: black;}#sk-container-id-1 div.sk-toggleable__content {max-height: 0;max-width: 0;overflow: hidden;text-align: left;background-color: #f0f8ff;}#sk-container-id-1 div.sk-toggleable__content pre {margin: 0.2em;color: black;border-radius: 0.25em;background-color: #f0f8ff;}#sk-container-id-1 input.sk-toggleable__control:checked~div.sk-toggleable__content {max-height: 200px;max-width: 100%;overflow: auto;}#sk-container-id-1 input.sk-toggleable__control:checked~label.sk-toggleable__label-arrow:before {content: \"▾\";}#sk-container-id-1 div.sk-estimator input.sk-toggleable__control:checked~label.sk-toggleable__label {background-color: #d4ebff;}#sk-container-id-1 div.sk-label input.sk-toggleable__control:checked~label.sk-toggleable__label {background-color: #d4ebff;}#sk-container-id-1 input.sk-hidden--visually {border: 0;clip: rect(1px 1px 1px 1px);clip: rect(1px, 1px, 1px, 1px);height: 1px;margin: -1px;overflow: hidden;padding: 0;position: absolute;width: 1px;}#sk-container-id-1 div.sk-estimator {font-family: monospace;background-color: #f0f8ff;border: 1px dotted black;border-radius: 0.25em;box-sizing: border-box;margin-bottom: 0.5em;}#sk-container-id-1 div.sk-estimator:hover {background-color: #d4ebff;}#sk-container-id-1 div.sk-parallel-item::after {content: \"\";width: 100%;border-bottom: 1px solid gray;flex-grow: 1;}#sk-container-id-1 div.sk-label:hover label.sk-toggleable__label {background-color: #d4ebff;}#sk-container-id-1 div.sk-serial::before {content: \"\";position: absolute;border-left: 1px solid gray;box-sizing: border-box;top: 0;bottom: 0;left: 50%;z-index: 0;}#sk-container-id-1 div.sk-serial {display: flex;flex-direction: column;align-items: center;background-color: white;padding-right: 0.2em;padding-left: 0.2em;position: relative;}#sk-container-id-1 div.sk-item {position: relative;z-index: 1;}#sk-container-id-1 div.sk-parallel {display: flex;align-items: stretch;justify-content: center;background-color: white;position: relative;}#sk-container-id-1 div.sk-item::before, #sk-container-id-1 div.sk-parallel-item::before {content: \"\";position: absolute;border-left: 1px solid gray;box-sizing: border-box;top: 0;bottom: 0;left: 50%;z-index: -1;}#sk-container-id-1 div.sk-parallel-item {display: flex;flex-direction: column;z-index: 1;position: relative;background-color: white;}#sk-container-id-1 div.sk-parallel-item:first-child::after {align-self: flex-end;width: 50%;}#sk-container-id-1 div.sk-parallel-item:last-child::after {align-self: flex-start;width: 50%;}#sk-container-id-1 div.sk-parallel-item:only-child::after {width: 0;}#sk-container-id-1 div.sk-dashed-wrapped {border: 1px dashed gray;margin: 0 0.4em 0.5em 0.4em;box-sizing: border-box;padding-bottom: 0.4em;background-color: white;}#sk-container-id-1 div.sk-label label {font-family: monospace;font-weight: bold;display: inline-block;line-height: 1.2em;}#sk-container-id-1 div.sk-label-container {text-align: center;}#sk-container-id-1 div.sk-container {/* jupyter's `normalize.less` sets `[hidden] { display: none; }` but bootstrap.min.css set `[hidden] { display: none !important; }` so we also need the `!important` here to be able to override the default hidden behavior on the sphinx rendered scikit-learn.org. See: https://github.com/scikit-learn/scikit-learn/issues/21755 */display: inline-block !important;position: relative;}#sk-container-id-1 div.sk-text-repr-fallback {display: none;}</style><div id=\"sk-container-id-1\" class=\"sk-top-container\"><div class=\"sk-text-repr-fallback\"><pre>SVC()</pre><b>In a Jupyter environment, please rerun this cell to show the HTML representation or trust the notebook. <br />On GitHub, the HTML representation is unable to render, please try loading this page with nbviewer.org.</b></div><div class=\"sk-container\" hidden><div class=\"sk-item\"><div class=\"sk-estimator sk-toggleable\"><input class=\"sk-toggleable__control sk-hidden--visually\" id=\"sk-estimator-id-1\" type=\"checkbox\" checked><label for=\"sk-estimator-id-1\" class=\"sk-toggleable__label sk-toggleable__label-arrow\">SVC</label><div class=\"sk-toggleable__content\"><pre>SVC()</pre></div></div></div></div></div>"
      ],
      "text/plain": [
       "SVC()"
      ]
     },
     "execution_count": 128,
     "metadata": {},
     "output_type": "execute_result"
    }
   ],
   "source": [
    "model = SVC()\n",
    "model.fit(X_train_scaled,y_train)"
   ]
  },
  {
   "cell_type": "code",
   "execution_count": 129,
   "id": "1eae8e8c-1987-4320-a824-d4cb382043b7",
   "metadata": {},
   "outputs": [],
   "source": [
    "from sklearn.metrics import classification_report, confusion_matrix,accuracy_score"
   ]
  },
  {
   "cell_type": "code",
   "execution_count": 130,
   "id": "605a0bf1-66b6-4137-83fc-ba7d58e7b7d6",
   "metadata": {},
   "outputs": [],
   "source": [
    "predictions = model.predict(X_test_scaled)"
   ]
  },
  {
   "cell_type": "code",
   "execution_count": 137,
   "id": "702b11a7-007a-466e-b3dd-ffdfe80bc80a",
   "metadata": {},
   "outputs": [
    {
     "data": {
      "text/plain": [
       "68.0"
      ]
     },
     "execution_count": 137,
     "metadata": {},
     "output_type": "execute_result"
    }
   ],
   "source": [
    "(accuracy_score(y_test,predictions)*100).round()"
   ]
  },
  {
   "cell_type": "code",
   "execution_count": 132,
   "id": "df5cd59a-ad06-427c-877a-aed461f3c9a1",
   "metadata": {},
   "outputs": [
    {
     "name": "stdout",
     "output_type": "stream",
     "text": [
      "              precision    recall  f1-score   support\n",
      "\n",
      "           0       0.68      0.70      0.69     17044\n",
      "           1       0.69      0.66      0.68     17010\n",
      "\n",
      "    accuracy                           0.68     34054\n",
      "   macro avg       0.68      0.68      0.68     34054\n",
      "weighted avg       0.68      0.68      0.68     34054\n",
      "\n"
     ]
    }
   ],
   "source": [
    "print(classification_report(y_test,predictions))"
   ]
  },
  {
   "cell_type": "code",
   "execution_count": 138,
   "id": "ed276025-6712-4964-b2ec-38b5d42dc07a",
   "metadata": {},
   "outputs": [],
   "source": [
    "cm = confusion_matrix(y_test,predictions)"
   ]
  },
  {
   "cell_type": "code",
   "execution_count": 139,
   "id": "27a8fa1d-5ae3-4d92-ac12-80f2e70f349e",
   "metadata": {},
   "outputs": [],
   "source": [
    "from sklearn.metrics import ConfusionMatrixDisplay"
   ]
  },
  {
   "cell_type": "code",
   "execution_count": 140,
   "id": "928d28ce-6a2c-40ae-864e-0557285d4e32",
   "metadata": {},
   "outputs": [],
   "source": [
    "disp = ConfusionMatrixDisplay(cm)"
   ]
  },
  {
   "cell_type": "code",
   "execution_count": 141,
   "id": "483dc833-a388-4d5e-b1e4-67c9859d716a",
   "metadata": {},
   "outputs": [
    {
     "data": {
      "text/plain": [
       "Text(0.5, 1.0, 'Confusion matrix')"
      ]
     },
     "execution_count": 141,
     "metadata": {},
     "output_type": "execute_result"
    },
    {
     "data": {
      "image/png": "[encoded data removed]",
      "text/plain": [
       "<Figure size 640x480 with 2 Axes>"
      ]
     },
     "metadata": {},
     "output_type": "display_data"
    }
   ],
   "source": [
    "disp.plot(cmap='Greens')\n",
    "plt.title('Confusion matrix')"
   ]
  },
  {
   "cell_type": "markdown",
   "id": "c141faef-b535-4bbf-88d1-a718a7eaab78",
   "metadata": {},
   "source": [
    "#### 2.2 Random Forest"
   ]
  },
  {
   "cell_type": "code",
   "execution_count": 142,
   "id": "fbd551e5-dbfa-4326-b7f5-831ff42397b1",
   "metadata": {},
   "outputs": [],
   "source": [
    "from sklearn.ensemble import RandomForestClassifier"
   ]
  },
  {
   "cell_type": "code",
   "execution_count": 144,
   "id": "c07b6452-8e2f-4098-bc13-a16d84bebb08",
   "metadata": {},
   "outputs": [],
   "source": [
    "modelRF = RandomForestClassifier()"
   ]
  },
  {
   "cell_type": "code",
   "execution_count": 145,
   "id": "da907296-d49e-486e-8603-b92622ba9dcc",
   "metadata": {},
   "outputs": [
    {
     "data": {
      "text/html": [
       "<style>#sk-container-id-2 {color: black;background-color: white;}#sk-container-id-2 pre{padding: 0;}#sk-container-id-2 div.sk-toggleable {background-color: white;}#sk-container-id-2 label.sk-toggleable__label {cursor: pointer;display: block;width: 100%;margin-bottom: 0;padding: 0.3em;box-sizing: border-box;text-align: center;}#sk-container-id-2 label.sk-toggleable__label-arrow:before {content: \"▸\";float: left;margin-right: 0.25em;color: #696969;}#sk-container-id-2 label.sk-toggleable__label-arrow:hover:before {color: black;}#sk-container-id-2 div.sk-estimator:hover label.sk-toggleable__label-arrow:before {color: black;}#sk-container-id-2 div.sk-toggleable__content {max-height: 0;max-width: 0;overflow: hidden;text-align: left;background-color: #f0f8ff;}#sk-container-id-2 div.sk-toggleable__content pre {margin: 0.2em;color: black;border-radius: 0.25em;background-color: #f0f8ff;}#sk-container-id-2 input.sk-toggleable__control:checked~div.sk-toggleable__content {max-height: 200px;max-width: 100%;overflow: auto;}#sk-container-id-2 input.sk-toggleable__control:checked~label.sk-toggleable__label-arrow:before {content: \"▾\";}#sk-container-id-2 div.sk-estimator input.sk-toggleable__control:checked~label.sk-toggleable__label {background-color: #d4ebff;}#sk-container-id-2 div.sk-label input.sk-toggleable__control:checked~label.sk-toggleable__label {background-color: #d4ebff;}#sk-container-id-2 input.sk-hidden--visually {border: 0;clip: rect(1px 1px 1px 1px);clip: rect(1px, 1px, 1px, 1px);height: 1px;margin: -1px;overflow: hidden;padding: 0;position: absolute;width: 1px;}#sk-container-id-2 div.sk-estimator {font-family: monospace;background-color: #f0f8ff;border: 1px dotted black;border-radius: 0.25em;box-sizing: border-box;margin-bottom: 0.5em;}#sk-container-id-2 div.sk-estimator:hover {background-color: #d4ebff;}#sk-container-id-2 div.sk-parallel-item::after {content: \"\";width: 100%;border-bottom: 1px solid gray;flex-grow: 1;}#sk-container-id-2 div.sk-label:hover label.sk-toggleable__label {background-color: #d4ebff;}#sk-container-id-2 div.sk-serial::before {content: \"\";position: absolute;border-left: 1px solid gray;box-sizing: border-box;top: 0;bottom: 0;left: 50%;z-index: 0;}#sk-container-id-2 div.sk-serial {display: flex;flex-direction: column;align-items: center;background-color: white;padding-right: 0.2em;padding-left: 0.2em;position: relative;}#sk-container-id-2 div.sk-item {position: relative;z-index: 1;}#sk-container-id-2 div.sk-parallel {display: flex;align-items: stretch;justify-content: center;background-color: white;position: relative;}#sk-container-id-2 div.sk-item::before, #sk-container-id-2 div.sk-parallel-item::before {content: \"\";position: absolute;border-left: 1px solid gray;box-sizing: border-box;top: 0;bottom: 0;left: 50%;z-index: -1;}#sk-container-id-2 div.sk-parallel-item {display: flex;flex-direction: column;z-index: 1;position: relative;background-color: white;}#sk-container-id-2 div.sk-parallel-item:first-child::after {align-self: flex-end;width: 50%;}#sk-container-id-2 div.sk-parallel-item:last-child::after {align-self: flex-start;width: 50%;}#sk-container-id-2 div.sk-parallel-item:only-child::after {width: 0;}#sk-container-id-2 div.sk-dashed-wrapped {border: 1px dashed gray;margin: 0 0.4em 0.5em 0.4em;box-sizing: border-box;padding-bottom: 0.4em;background-color: white;}#sk-container-id-2 div.sk-label label {font-family: monospace;font-weight: bold;display: inline-block;line-height: 1.2em;}#sk-container-id-2 div.sk-label-container {text-align: center;}#sk-container-id-2 div.sk-container {/* jupyter's `normalize.less` sets `[hidden] { display: none; }` but bootstrap.min.css set `[hidden] { display: none !important; }` so we also need the `!important` here to be able to override the default hidden behavior on the sphinx rendered scikit-learn.org. See: https://github.com/scikit-learn/scikit-learn/issues/21755 */display: inline-block !important;position: relative;}#sk-container-id-2 div.sk-text-repr-fallback {display: none;}</style><div id=\"sk-container-id-2\" class=\"sk-top-container\"><div class=\"sk-text-repr-fallback\"><pre>RandomForestClassifier()</pre><b>In a Jupyter environment, please rerun this cell to show the HTML representation or trust the notebook. <br />On GitHub, the HTML representation is unable to render, please try loading this page with nbviewer.org.</b></div><div class=\"sk-container\" hidden><div class=\"sk-item\"><div class=\"sk-estimator sk-toggleable\"><input class=\"sk-toggleable__control sk-hidden--visually\" id=\"sk-estimator-id-2\" type=\"checkbox\" checked><label for=\"sk-estimator-id-2\" class=\"sk-toggleable__label sk-toggleable__label-arrow\">RandomForestClassifier</label><div class=\"sk-toggleable__content\"><pre>RandomForestClassifier()</pre></div></div></div></div></div>"
      ],
      "text/plain": [
       "RandomForestClassifier()"
      ]
     },
     "execution_count": 145,
     "metadata": {},
     "output_type": "execute_result"
    }
   ],
   "source": [
    "modelRF.fit(X_train_scaled,y_train)"
   ]
  },
  {
   "cell_type": "code",
   "execution_count": 146,
   "id": "ed43a5c3-9cb8-46ec-98c5-105ebb920377",
   "metadata": {},
   "outputs": [],
   "source": [
    "predictionsRf = modelRF.predict(X_test_scaled)"
   ]
  },
  {
   "cell_type": "code",
   "execution_count": 149,
   "id": "0bab357b-4d69-4283-9c35-e0d8f91bcbcb",
   "metadata": {},
   "outputs": [
    {
     "name": "stdout",
     "output_type": "stream",
     "text": [
      "              precision    recall  f1-score   support\n",
      "\n",
      "           0       1.00      0.98      0.99     17044\n",
      "           1       0.98      1.00      0.99     17010\n",
      "\n",
      "    accuracy                           0.99     34054\n",
      "   macro avg       0.99      0.99      0.99     34054\n",
      "weighted avg       0.99      0.99      0.99     34054\n",
      "\n"
     ]
    }
   ],
   "source": [
    "print(classification_report(y_test,predictionsRf))"
   ]
  },
  {
   "cell_type": "code",
   "execution_count": 150,
   "id": "0c635520-36d7-42f4-ae4e-caa650ab7ced",
   "metadata": {},
   "outputs": [
    {
     "data": {
      "text/plain": [
       "99.0"
      ]
     },
     "execution_count": 150,
     "metadata": {},
     "output_type": "execute_result"
    }
   ],
   "source": [
    "(accuracy_score(y_test,predictionsRf)*100).round()"
   ]
  },
  {
   "cell_type": "code",
   "execution_count": 152,
   "id": "bf18ffa9-0b08-4666-86bb-fcbbf242ae31",
   "metadata": {},
   "outputs": [],
   "source": [
    "cmRf = confusion_matrix(y_test,predictionsRf)"
   ]
  },
  {
   "cell_type": "code",
   "execution_count": 154,
   "id": "5e204406-fa40-4fed-a2b3-2895929b51cc",
   "metadata": {},
   "outputs": [],
   "source": [
    "dispRf = ConfusionMatrixDisplay(cmRf)"
   ]
  },
  {
   "cell_type": "code",
   "execution_count": 155,
   "id": "e9d2d21a-dac6-4b18-846a-30a33777089e",
   "metadata": {},
   "outputs": [
    {
     "data": {
      "text/plain": [
       "Text(0.5, 1.0, 'Confusion matrix')"
      ]
     },
     "execution_count": 155,
     "metadata": {},
     "output_type": "execute_result"
    },
    {
     "data": {
      "image/png": "[encoded data removed]",
      "text/plain": [
       "<Figure size 640x480 with 2 Axes>"
      ]
     },
     "metadata": {},
     "output_type": "display_data"
    }
   ],
   "source": [
    "dispRf.plot(cmap='Reds')\n",
    "plt.title('Confusion matrix')"
   ]
  },
  {
   "cell_type": "code",
   "execution_count": null,
   "id": "8a3518e9-7c5b-4d71-9f62-2ab5d6790c13",
   "metadata": {},
   "outputs": [],
   "source": []
  }
 ],
 "metadata": {
  "kernelspec": {
   "display_name": "Python 3 (ipykernel)",
   "language": "python",
   "name": "python3"
  },
  "language_info": {
   "codemirror_mode": {
    "name": "ipython",
    "version": 3
   },
   "file_extension": ".py",
   "mimetype": "text/x-python",
   "name": "python",
   "nbconvert_exporter": "python",
   "pygments_lexer": "ipython3",
   "version": "3.11.7"
  }
 },
 "nbformat": 4,
 "nbformat_minor": 5
}
